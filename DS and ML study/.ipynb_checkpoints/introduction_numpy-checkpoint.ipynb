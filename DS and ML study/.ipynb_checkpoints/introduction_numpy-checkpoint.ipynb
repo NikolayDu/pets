{
 "cells": [
  {
   "cell_type": "markdown",
   "id": "87a9e55a-9c43-4262-b698-eb4c1fa49783",
   "metadata": {},
   "source": [
    "# Введение в библиотеку NumPy"
   ]
  },
  {
   "cell_type": "code",
   "execution_count": 1,
   "id": "f5b9fe66-d4f0-45a0-8477-ba924f6b5c00",
   "metadata": {},
   "outputs": [],
   "source": [
    "import numpy as np"
   ]
  },
  {
   "cell_type": "code",
   "execution_count": 2,
   "id": "f8c16ac9-04b5-4c9c-bfd3-dab33adefbc5",
   "metadata": {},
   "outputs": [
    {
     "name": "stdout",
     "output_type": "stream",
     "text": [
      "1.23.1\n"
     ]
    }
   ],
   "source": [
    "print(np.__version__)"
   ]
  },
  {
   "cell_type": "markdown",
   "id": "9f5ea6f4-12b8-4d21-9e0e-27866b2de9a7",
   "metadata": {},
   "source": [
    "## Создание массивов из списков языка Python"
   ]
  },
  {
   "cell_type": "code",
   "execution_count": 6,
   "id": "42a55279-ffd7-4799-ab96-c6eee16808cc",
   "metadata": {},
   "outputs": [
    {
     "data": {
      "text/plain": [
       "array([1, 4, 2, 5, 3])"
      ]
     },
     "execution_count": 6,
     "metadata": {},
     "output_type": "execute_result"
    }
   ],
   "source": [
    "np.array([1, 4, 2, 5, 3]) # Массив целочисленных значений"
   ]
  },
  {
   "cell_type": "code",
   "execution_count": 8,
   "id": "8c055881-5a37-4ae2-87c6-e417838b4fe2",
   "metadata": {},
   "outputs": [
    {
     "data": {
      "text/plain": [
       "array([3.14, 4.  , 2.  , 3.  ])"
      ]
     },
     "execution_count": 8,
     "metadata": {},
     "output_type": "execute_result"
    }
   ],
   "source": [
    "np.array([3.14, 4, 2, 3]) # Массив ограничивается только одним типом. Если добавить float, то он исправит все значения на float"
   ]
  },
  {
   "cell_type": "code",
   "execution_count": 9,
   "id": "c7274807-a442-4190-b2e4-b72a286432ce",
   "metadata": {},
   "outputs": [
    {
     "data": {
      "text/plain": [
       "array([1., 2., 3., 4.], dtype=float32)"
      ]
     },
     "execution_count": 9,
     "metadata": {},
     "output_type": "execute_result"
    }
   ],
   "source": [
    "np.array([1, 2, 3, 4], dtype='float32') # если нужно явно указать тип данных для массива"
   ]
  },
  {
   "cell_type": "code",
   "execution_count": 10,
   "id": "57b3b90c-62e9-42b1-8000-bff77fc27315",
   "metadata": {},
   "outputs": [
    {
     "data": {
      "text/plain": [
       "array([[2, 3, 4],\n",
       "       [4, 5, 6],\n",
       "       [6, 7, 8]])"
      ]
     },
     "execution_count": 10,
     "metadata": {},
     "output_type": "execute_result"
    }
   ],
   "source": [
    "# Вложенные списки прообразуются в многомерный массив\n",
    "np.array([range(i, i + 3) for i in [2, 4, 6]])"
   ]
  },
  {
   "cell_type": "markdown",
   "id": "9e2199e8-0c31-4e48-8c89-4fb97f649531",
   "metadata": {},
   "source": [
    "## Создание массивов с нуля"
   ]
  },
  {
   "cell_type": "code",
   "execution_count": 19,
   "id": "6b280924-bc23-4771-9de7-83bcdfed1dec",
   "metadata": {},
   "outputs": [
    {
     "data": {
      "text/plain": [
       "array([0, 0, 0, 0, 0, 0, 0, 0, 0, 0])"
      ]
     },
     "execution_count": 19,
     "metadata": {},
     "output_type": "execute_result"
    }
   ],
   "source": [
    "# Создать массив целых чисел длины 10, заполненных нулями\n",
    "np.zeros(10, dtype=int)"
   ]
  },
  {
   "cell_type": "code",
   "execution_count": 23,
   "id": "a08e94a1-4738-4c72-9040-f8bbab2d6eae",
   "metadata": {},
   "outputs": [
    {
     "data": {
      "text/plain": [
       "array([[1., 1., 1., 1., 1.],\n",
       "       [1., 1., 1., 1., 1.],\n",
       "       [1., 1., 1., 1., 1.]], dtype=float32)"
      ]
     },
     "execution_count": 23,
     "metadata": {},
     "output_type": "execute_result"
    }
   ],
   "source": [
    "# Массив 3x5 с единицами с плавающей точкой\n",
    "np.ones((3, 5), dtype='float32')"
   ]
  },
  {
   "cell_type": "code",
   "execution_count": 24,
   "id": "de4b61e8-8af4-46e1-a8d6-ba7c18eb4792",
   "metadata": {},
   "outputs": [
    {
     "data": {
      "text/plain": [
       "array([[3.14, 3.14, 3.14, 3.14, 3.14],\n",
       "       [3.14, 3.14, 3.14, 3.14, 3.14],\n",
       "       [3.14, 3.14, 3.14, 3.14, 3.14]])"
      ]
     },
     "execution_count": 24,
     "metadata": {},
     "output_type": "execute_result"
    }
   ],
   "source": [
    "# Массив, заполненный конкретным значением\n",
    "np.full((3, 5), 3.14)"
   ]
  },
  {
   "cell_type": "code",
   "execution_count": 28,
   "id": "17fc3491-a374-4ff4-a2ba-8da847580468",
   "metadata": {},
   "outputs": [
    {
     "data": {
      "text/plain": [
       "array([ 0,  2,  4,  6,  8, 10, 12, 14, 16, 18])"
      ]
     },
     "execution_count": 28,
     "metadata": {},
     "output_type": "execute_result"
    }
   ],
   "source": [
    "# Массив, заданной линейной последовательностью с 0 до 20 с шагом в 2\n",
    "np.arange(0, 20, 2)"
   ]
  },
  {
   "cell_type": "code",
   "execution_count": 32,
   "id": "4c1c2683-5b54-465b-bc66-25c8f6136be9",
   "metadata": {},
   "outputs": [
    {
     "data": {
      "text/plain": [
       "array([0.  , 0.25, 0.5 , 0.75, 1.  ])"
      ]
     },
     "execution_count": 32,
     "metadata": {},
     "output_type": "execute_result"
    }
   ],
   "source": [
    "# Массив из пяти значений, равномерно распределенных между 0 и 1\n",
    "np.linspace(0, 1, 5)"
   ]
  },
  {
   "cell_type": "code",
   "execution_count": 34,
   "id": "817e6b7a-5dff-4604-9939-a719453fb399",
   "metadata": {},
   "outputs": [
    {
     "data": {
      "text/plain": [
       "array([[0.90564238, 0.43472441, 0.23978443],\n",
       "       [0.50236998, 0.98417084, 0.5123305 ],\n",
       "       [0.0743034 , 0.16268584, 0.183389  ]])"
      ]
     },
     "execution_count": 34,
     "metadata": {},
     "output_type": "execute_result"
    }
   ],
   "source": [
    "# Массив 3x3 равномерно распределенных СЛУЧАЙНЫХ значений между 0 и 1\n",
    "np.random.random((3, 3))"
   ]
  },
  {
   "cell_type": "code",
   "execution_count": 35,
   "id": "f4536e0c-5375-4754-a99e-ad064ce66722",
   "metadata": {},
   "outputs": [
    {
     "data": {
      "text/plain": [
       "array([[-1.23960236, -0.49453963, -1.73737272],\n",
       "       [ 0.22362313,  0.6696425 , -0.44140676],\n",
       "       [ 2.26212383,  1.47829973, -0.03397979]])"
      ]
     },
     "execution_count": 35,
     "metadata": {},
     "output_type": "execute_result"
    }
   ],
   "source": [
    "# Массив 3x3 нормально распределныых случайных значений с медианой 0 и стандартным отклонение 1\n",
    "\n",
    "# Медиана 0: Медиана — это значение, которое делит распределение на две равные части.\n",
    "# Если медиана равна 0, это означает, что половина значений меньше или равна 0, а другая половина больше или равна 0.\n",
    "\n",
    "# Стандартное отклонение 1: Стандартное отклонение — это мера разброса значений относительно средней.\n",
    "# Если стандартное отклонение равно 1, это указывает на то, что значения распределены относительно среднего значения (в данном случае 0)\n",
    "# с характерным разбросом, который соответствует нормальному распределению.\n",
    "\n",
    "np.random.normal(0, 1, (3, 3)) # Или подругому с явными указаниями:  np.random.normal(loc=0, scale=1, size=(3, 3))"
   ]
  },
  {
   "cell_type": "code",
   "execution_count": 36,
   "id": "b9fe54ba-338a-4f7e-b731-c8c255e5d454",
   "metadata": {},
   "outputs": [
    {
     "data": {
      "text/plain": [
       "array([[6, 6, 2],\n",
       "       [5, 6, 0],\n",
       "       [1, 5, 9]])"
      ]
     },
     "execution_count": 36,
     "metadata": {},
     "output_type": "execute_result"
    }
   ],
   "source": [
    "# Массив 3x3  случайных целых чисел в [0, 10)\n",
    "np.random.randint(0, 10, (3, 3))"
   ]
  },
  {
   "cell_type": "code",
   "execution_count": 37,
   "id": "f2689ea4-3615-426e-ba77-585c065746d7",
   "metadata": {},
   "outputs": [
    {
     "data": {
      "text/plain": [
       "array([[1., 0., 0.],\n",
       "       [0., 1., 0.],\n",
       "       [0., 0., 1.]])"
      ]
     },
     "execution_count": 37,
     "metadata": {},
     "output_type": "execute_result"
    }
   ],
   "source": [
    "# Единичная матрица 3x3\n",
    "np.eye(3)"
   ]
  },
  {
   "cell_type": "code",
   "execution_count": 38,
   "id": "dc42f972-6955-44e8-a364-dd202b62a90c",
   "metadata": {},
   "outputs": [
    {
     "data": {
      "text/plain": [
       "array([1., 1., 1.])"
      ]
     },
     "execution_count": 38,
     "metadata": {},
     "output_type": "execute_result"
    }
   ],
   "source": [
    "# Неинициализированный мастив из трёх целочисленных значений\n",
    "# Значения будут производные, случайно оказавшиеся в соответствующих ячейках памяти\n",
    "np.empty(3)"
   ]
  },
  {
   "cell_type": "markdown",
   "id": "1be293c8-da47-4506-b828-28c12df7270b",
   "metadata": {},
   "source": [
    "## Введение в массивы библиотеки NumPy"
   ]
  },
  {
   "cell_type": "markdown",
   "id": "9eb2eb7a-1086-4744-bdfd-dad9ece443e7",
   "metadata": {},
   "source": [
    "### Атрибуты массивов библиотеки NumPy"
   ]
  },
  {
   "cell_type": "code",
   "execution_count": 39,
   "id": "23c95bfa-3f9e-4782-985c-c18653a0992a",
   "metadata": {},
   "outputs": [],
   "source": [
    "np.random.seed(0) # seed нужен для генерации одних и тех же рандомных значений после каждом выполнении кода"
   ]
  },
  {
   "cell_type": "code",
   "execution_count": 3,
   "id": "6b8193a3-6884-4d68-8528-248701a91b23",
   "metadata": {},
   "outputs": [],
   "source": [
    "x1 = np.random.randint(10, size=6) # одномерный массив\n",
    "x2 = np.random.randint(10, size=(3, 4)) # двумерный массив\n",
    "x3 = np.random.randint(10, size=(3, 4, 5)) # трехмерный массив"
   ]
  },
  {
   "cell_type": "code",
   "execution_count": 4,
   "id": "51021df7-2e6b-4f4a-a29c-fe63cd75b8ac",
   "metadata": {},
   "outputs": [
    {
     "data": {
      "text/plain": [
       "array([[[3, 4, 5, 1, 1],\n",
       "        [7, 7, 0, 0, 4],\n",
       "        [0, 5, 7, 7, 6],\n",
       "        [5, 3, 9, 8, 9]],\n",
       "\n",
       "       [[7, 5, 0, 8, 3],\n",
       "        [1, 4, 2, 4, 2],\n",
       "        [3, 0, 0, 0, 2],\n",
       "        [1, 3, 5, 8, 0]],\n",
       "\n",
       "       [[8, 7, 9, 1, 7],\n",
       "        [8, 2, 6, 0, 0],\n",
       "        [7, 8, 9, 2, 8],\n",
       "        [8, 8, 6, 0, 1]]])"
      ]
     },
     "execution_count": 4,
     "metadata": {},
     "output_type": "execute_result"
    }
   ],
   "source": [
    "x3"
   ]
  },
  {
   "cell_type": "code",
   "execution_count": 42,
   "id": "e0bfbfef-008c-450b-b5fa-09e82b54c588",
   "metadata": {},
   "outputs": [
    {
     "name": "stdout",
     "output_type": "stream",
     "text": [
      "x3 ndim: 3\n",
      "x3 shape: (3, 4, 5)\n",
      "x3 size: 60\n"
     ]
    }
   ],
   "source": [
    "print('x3 ndim:', x3.ndim) # размерность\n",
    "print('x3 shape:', x3.shape) # размер каждого измерения\n",
    "print('x3 size:', x3.size) # общий размер массива (количество элементов)"
   ]
  },
  {
   "cell_type": "code",
   "execution_count": 44,
   "id": "8ab37869-29f4-441d-9cde-766246e9ec82",
   "metadata": {},
   "outputs": [
    {
     "name": "stdout",
     "output_type": "stream",
     "text": [
      "dtype: int32\n"
     ]
    }
   ],
   "source": [
    "print('dtype:', x3.dtype)"
   ]
  },
  {
   "cell_type": "code",
   "execution_count": 46,
   "id": "98b31a02-6996-4803-8043-68d3db6db572",
   "metadata": {},
   "outputs": [
    {
     "name": "stdout",
     "output_type": "stream",
     "text": [
      "itemsize: 4 bytes\n",
      "nbytes: 240 bytes\n"
     ]
    }
   ],
   "source": [
    "print('itemsize:', x3.itemsize, 'bytes') # размер каждого элемента в байтах\n",
    "print('nbytes:', x3.nbytes, 'bytes') # полный размер массива в байтах (.itemsize * .size)"
   ]
  },
  {
   "cell_type": "markdown",
   "id": "d5efa792-7e50-4a38-afe7-565e54994868",
   "metadata": {},
   "source": [
    "### Индексация массива: доступ к отдельным элементам"
   ]
  },
  {
   "cell_type": "code",
   "execution_count": 5,
   "id": "655a0943-baf5-43ff-9ffa-60e3266a4b45",
   "metadata": {},
   "outputs": [
    {
     "data": {
      "text/plain": [
       "array([2, 9, 3, 9, 3, 4])"
      ]
     },
     "execution_count": 5,
     "metadata": {},
     "output_type": "execute_result"
    }
   ],
   "source": [
    "x1"
   ]
  },
  {
   "cell_type": "code",
   "execution_count": 6,
   "id": "ab3942b4-85ad-49f0-ac0f-109334a6757c",
   "metadata": {},
   "outputs": [
    {
     "data": {
      "text/plain": [
       "2"
      ]
     },
     "execution_count": 6,
     "metadata": {},
     "output_type": "execute_result"
    }
   ],
   "source": [
    "x1[0]"
   ]
  },
  {
   "cell_type": "code",
   "execution_count": 7,
   "id": "a88618da-033c-4315-ac05-52c6afb676b2",
   "metadata": {},
   "outputs": [
    {
     "data": {
      "text/plain": [
       "3"
      ]
     },
     "execution_count": 7,
     "metadata": {},
     "output_type": "execute_result"
    }
   ],
   "source": [
    "x1[4]"
   ]
  },
  {
   "cell_type": "code",
   "execution_count": 9,
   "id": "b46ef212-9047-4253-ade2-9671d06da5d4",
   "metadata": {},
   "outputs": [
    {
     "data": {
      "text/plain": [
       "4"
      ]
     },
     "execution_count": 9,
     "metadata": {},
     "output_type": "execute_result"
    }
   ],
   "source": [
    "x1[-1] # индексация с конца"
   ]
  },
  {
   "cell_type": "code",
   "execution_count": 10,
   "id": "72ee2197-91c8-4a2b-b856-0238ef8496be",
   "metadata": {},
   "outputs": [
    {
     "data": {
      "text/plain": [
       "array([[8, 9, 4, 2],\n",
       "       [7, 4, 0, 7],\n",
       "       [4, 3, 0, 1]])"
      ]
     },
     "execution_count": 10,
     "metadata": {},
     "output_type": "execute_result"
    }
   ],
   "source": [
    "x2"
   ]
  },
  {
   "cell_type": "code",
   "execution_count": 13,
   "id": "e3713ad1-3316-4efd-b9e2-024edfd5c75c",
   "metadata": {},
   "outputs": [
    {
     "data": {
      "text/plain": [
       "0"
      ]
     },
     "execution_count": 13,
     "metadata": {},
     "output_type": "execute_result"
    }
   ],
   "source": [
    "x2[2, 2] # так же можно использовать [2][2]"
   ]
  },
  {
   "cell_type": "code",
   "execution_count": 15,
   "id": "698e2d51-b7a9-4b32-9230-0d081fa9d791",
   "metadata": {},
   "outputs": [
    {
     "data": {
      "text/plain": [
       "array([[  8,   9,   4,   2],\n",
       "       [  7,   4,   0,   7],\n",
       "       [  4,   3, 100,   1]])"
      ]
     },
     "execution_count": 15,
     "metadata": {},
     "output_type": "execute_result"
    }
   ],
   "source": [
    "# Изменить значения\n",
    "x2[2, 2] = 100\n",
    "x2"
   ]
  },
  {
   "cell_type": "markdown",
   "id": "7e07bced-93e3-4fd8-95d8-84e6928d4d25",
   "metadata": {},
   "source": [
    "### Срезы массивов: доступ к подмассивам"
   ]
  },
  {
   "cell_type": "markdown",
   "id": "b0603ba2-5dfd-46d7-ac91-48a2d25a0faf",
   "metadata": {},
   "source": [
    "#### Одномерные подмассивы"
   ]
  },
  {
   "cell_type": "code",
   "execution_count": 17,
   "id": "402983d6-0ed8-4777-a863-5be8ddc8e11d",
   "metadata": {},
   "outputs": [
    {
     "data": {
      "text/plain": [
       "array([0, 1, 2, 3, 4, 5, 6, 7, 8, 9])"
      ]
     },
     "execution_count": 17,
     "metadata": {},
     "output_type": "execute_result"
    }
   ],
   "source": [
    "x = np.arange(10)\n",
    "x"
   ]
  },
  {
   "cell_type": "code",
   "execution_count": 18,
   "id": "c7460e67-6d4f-4d76-b317-da05b7dcaf39",
   "metadata": {},
   "outputs": [
    {
     "data": {
      "text/plain": [
       "array([0, 1, 2, 3, 4])"
      ]
     },
     "execution_count": 18,
     "metadata": {},
     "output_type": "execute_result"
    }
   ],
   "source": [
    "x[:5] # первые 5 элементов"
   ]
  },
  {
   "cell_type": "code",
   "execution_count": 19,
   "id": "a7050095-200f-4101-8cea-f51f50d6f17c",
   "metadata": {},
   "outputs": [
    {
     "data": {
      "text/plain": [
       "array([4, 5, 6])"
      ]
     },
     "execution_count": 19,
     "metadata": {},
     "output_type": "execute_result"
    }
   ],
   "source": [
    "x[4:7]"
   ]
  },
  {
   "cell_type": "code",
   "execution_count": 20,
   "id": "a2a29a09-58b4-4588-a25e-12b9a905db66",
   "metadata": {},
   "outputs": [
    {
     "data": {
      "text/plain": [
       "array([1, 3, 5, 7, 9])"
      ]
     },
     "execution_count": 20,
     "metadata": {},
     "output_type": "execute_result"
    }
   ],
   "source": [
    "x[1::2]"
   ]
  },
  {
   "cell_type": "code",
   "execution_count": 21,
   "id": "3b2b5a1b-c401-4187-96da-8e8de8ca65b3",
   "metadata": {},
   "outputs": [
    {
     "data": {
      "text/plain": [
       "array([5, 3, 1])"
      ]
     },
     "execution_count": 21,
     "metadata": {},
     "output_type": "execute_result"
    }
   ],
   "source": [
    "# Когда применяется обратный индекс - начало и конец меняются местами\n",
    "x[5::-2]"
   ]
  },
  {
   "cell_type": "markdown",
   "id": "f80bb3d4-7121-4222-996c-b56f398455a2",
   "metadata": {},
   "source": [
    "#### Многомерные подмассивы"
   ]
  },
  {
   "cell_type": "code",
   "execution_count": 22,
   "id": "1dc6e001-9b99-4f67-bed6-62c8b0302e02",
   "metadata": {},
   "outputs": [
    {
     "data": {
      "text/plain": [
       "array([[  8,   9,   4,   2],\n",
       "       [  7,   4,   0,   7],\n",
       "       [  4,   3, 100,   1]])"
      ]
     },
     "execution_count": 22,
     "metadata": {},
     "output_type": "execute_result"
    }
   ],
   "source": [
    "x2"
   ]
  },
  {
   "cell_type": "code",
   "execution_count": 23,
   "id": "823bb2ff-a901-4a00-9e9d-a84df64a470a",
   "metadata": {},
   "outputs": [
    {
     "data": {
      "text/plain": [
       "array([[8, 9, 4],\n",
       "       [7, 4, 0]])"
      ]
     },
     "execution_count": 23,
     "metadata": {},
     "output_type": "execute_result"
    }
   ],
   "source": [
    "x2[:2, :3] # две строки, три столбца"
   ]
  },
  {
   "cell_type": "code",
   "execution_count": 24,
   "id": "4c326799-7615-40d4-ada4-217988dd617b",
   "metadata": {},
   "outputs": [
    {
     "data": {
      "text/plain": [
       "array([[  8,   4],\n",
       "       [  7,   0],\n",
       "       [  4, 100]])"
      ]
     },
     "execution_count": 24,
     "metadata": {},
     "output_type": "execute_result"
    }
   ],
   "source": [
    "x2[:3, ::2] # все строки, каждый второй столбец"
   ]
  },
  {
   "cell_type": "code",
   "execution_count": 25,
   "id": "9991832d-4fbb-4513-b125-18628338cf17",
   "metadata": {},
   "outputs": [
    {
     "data": {
      "text/plain": [
       "array([[  1, 100,   3,   4],\n",
       "       [  7,   0,   4,   7],\n",
       "       [  2,   4,   9,   8]])"
      ]
     },
     "execution_count": 25,
     "metadata": {},
     "output_type": "execute_result"
    }
   ],
   "source": [
    "x2[::-1, ::-1] # измерения тоже можно \"переворачивать\""
   ]
  },
  {
   "cell_type": "markdown",
   "id": "d59179e1-e7ec-40c2-a728-e798b976a4cf",
   "metadata": {},
   "source": [
    "#### Доступ к строкам и столбцам массива"
   ]
  },
  {
   "cell_type": "code",
   "execution_count": 30,
   "id": "906654b9-0dde-4350-93a4-5db20fc0eae2",
   "metadata": {},
   "outputs": [
    {
     "data": {
      "text/plain": [
       "array([[  8,   9,   4,   2],\n",
       "       [  7,   4,   0,   7],\n",
       "       [  4,   3, 100,   1]])"
      ]
     },
     "execution_count": 30,
     "metadata": {},
     "output_type": "execute_result"
    }
   ],
   "source": [
    "x2"
   ]
  },
  {
   "cell_type": "code",
   "execution_count": 27,
   "id": "09ee311f-fc23-4eaf-aa10-0e2f6372fc4b",
   "metadata": {},
   "outputs": [
    {
     "name": "stdout",
     "output_type": "stream",
     "text": [
      "[8 7 4]\n"
     ]
    }
   ],
   "source": [
    "print(x2[:, 0]) "
   ]
  },
  {
   "cell_type": "code",
   "execution_count": 28,
   "id": "ea493932-4153-495c-a236-5c7f01f25bb0",
   "metadata": {},
   "outputs": [
    {
     "name": "stdout",
     "output_type": "stream",
     "text": [
      "[7 4 0 7]\n"
     ]
    }
   ],
   "source": [
    "print(x2[1, :]) # вывод второй строки"
   ]
  },
  {
   "cell_type": "code",
   "execution_count": 31,
   "id": "65aef6d1-bd67-4245-9632-c03d9347f094",
   "metadata": {},
   "outputs": [
    {
     "data": {
      "text/plain": [
       "array([8, 9, 4, 2])"
      ]
     },
     "execution_count": 31,
     "metadata": {},
     "output_type": "execute_result"
    }
   ],
   "source": [
    "# НО ЛУЧШЕ ИСПОЛЬЗОВАТЬ ПРОСТО ТАКОЙ ВЫВОД\n",
    "x2[0] # первая строка"
   ]
  },
  {
   "cell_type": "markdown",
   "id": "b5c92828-2f55-452c-88da-f1a60810318e",
   "metadata": {},
   "source": [
    "#### Подмассивы как предназначенные только для чтения представления"
   ]
  },
  {
   "cell_type": "markdown",
   "id": "4c0d0500-a722-4c21-8c62-4f61e86e33c9",
   "metadata": {},
   "source": [
    "Срезы массивов возвращают **представления (views)**, а не **копии (copies)** данных массива.\n",
    "Короче говоря: если мы возьмём срез массива в NumPy, затем изменим исходный массив - то и срез тоже изменится."
   ]
  },
  {
   "cell_type": "code",
   "execution_count": 32,
   "id": "a099560f-6148-4685-8188-e0571b881a37",
   "metadata": {},
   "outputs": [
    {
     "data": {
      "text/plain": [
       "array([[  8,   9,   4,   2],\n",
       "       [  7,   4,   0,   7],\n",
       "       [  4,   3, 100,   1]])"
      ]
     },
     "execution_count": 32,
     "metadata": {},
     "output_type": "execute_result"
    }
   ],
   "source": [
    "x2"
   ]
  },
  {
   "cell_type": "code",
   "execution_count": 34,
   "id": "9b7aac67-c5e3-4637-924b-92a2ff9d0fdd",
   "metadata": {},
   "outputs": [
    {
     "data": {
      "text/plain": [
       "array([[8, 9],\n",
       "       [7, 4]])"
      ]
     },
     "execution_count": 34,
     "metadata": {},
     "output_type": "execute_result"
    }
   ],
   "source": [
    "# Возьмем срез 2x2\n",
    "x2_sub = x2[:2, :2]\n",
    "x2_sub # Если что вывод вначале был [[8, 9][7, 4]]"
   ]
  },
  {
   "cell_type": "code",
   "execution_count": 43,
   "id": "b50ccaba-ca86-4739-876f-4cdadd7b7f86",
   "metadata": {},
   "outputs": [],
   "source": [
    "# Затем изменим x2\n",
    "x2[1, 1] = 101"
   ]
  },
  {
   "cell_type": "code",
   "execution_count": 44,
   "id": "a541f350-f5f1-4f67-881c-06666fd3133c",
   "metadata": {},
   "outputs": [
    {
     "data": {
      "text/plain": [
       "array([[  8, 102],\n",
       "       [  7, 101]])"
      ]
     },
     "execution_count": 44,
     "metadata": {},
     "output_type": "execute_result"
    }
   ],
   "source": [
    "x2_sub # теперь вывод стал: [[8, 9][7, 101]]"
   ]
  },
  {
   "cell_type": "code",
   "execution_count": 45,
   "id": "2e90219b-73f0-4c1d-a6d9-3dc12b70ab20",
   "metadata": {},
   "outputs": [],
   "source": [
    "# Таким же образом, если мы изменим значение в срезе - то основной массив тоже изменится\n",
    "x2_sub[0, 1] = 102 "
   ]
  },
  {
   "cell_type": "code",
   "execution_count": 46,
   "id": "0768b87e-6e95-4f19-a384-69b7c26d537b",
   "metadata": {},
   "outputs": [
    {
     "data": {
      "text/plain": [
       "array([[  8, 102,   4,   2],\n",
       "       [  7, 101,   0,   7],\n",
       "       [  4,   3, 100,   1]])"
      ]
     },
     "execution_count": 46,
     "metadata": {},
     "output_type": "execute_result"
    }
   ],
   "source": [
    "x2"
   ]
  },
  {
   "cell_type": "markdown",
   "id": "e3ff942a-8151-4ae5-b6e8-787cfc95b8fe",
   "metadata": {},
   "source": [
    "#### Создание копий массивов"
   ]
  },
  {
   "cell_type": "code",
   "execution_count": 47,
   "id": "57128af6-341c-4962-b8d3-cc83dbdb9cf1",
   "metadata": {},
   "outputs": [
    {
     "name": "stdout",
     "output_type": "stream",
     "text": [
      "[[  8 102]\n",
      " [  7 101]]\n"
     ]
    }
   ],
   "source": [
    "x2_sub_copy = x2[:2, :2].copy()\n",
    "print(x2_sub_copy)"
   ]
  },
  {
   "cell_type": "code",
   "execution_count": 49,
   "id": "e3636935-c613-41b1-8075-f900f04b9e54",
   "metadata": {},
   "outputs": [
    {
     "name": "stdout",
     "output_type": "stream",
     "text": [
      "[[200 102]\n",
      " [  7 101]]\n"
     ]
    }
   ],
   "source": [
    "# Если мы теперь поменяем этот подмассив, то исходный массив останется неизмененным\n",
    "x2_sub_copy[0, 0] = 200\n",
    "print(x2_sub_copy)"
   ]
  },
  {
   "cell_type": "code",
   "execution_count": 50,
   "id": "fdbd9025-5d65-4ecd-9ccc-909695bcec76",
   "metadata": {},
   "outputs": [
    {
     "data": {
      "text/plain": [
       "array([[  8, 102,   4,   2],\n",
       "       [  7, 101,   0,   7],\n",
       "       [  4,   3, 100,   1]])"
      ]
     },
     "execution_count": 50,
     "metadata": {},
     "output_type": "execute_result"
    }
   ],
   "source": [
    "x2 # не изменился"
   ]
  },
  {
   "cell_type": "markdown",
   "id": "faeea495-7921-4d0d-b926-e9183f47f309",
   "metadata": {},
   "source": [
    "#### Изменения формы массивов .reshape()"
   ]
  },
  {
   "cell_type": "code",
   "execution_count": 51,
   "id": "909233ad-c6db-4294-82be-6c63bad19557",
   "metadata": {},
   "outputs": [
    {
     "data": {
      "text/plain": [
       "array([[1, 2, 3],\n",
       "       [4, 5, 6],\n",
       "       [7, 8, 9]])"
      ]
     },
     "execution_count": 51,
     "metadata": {},
     "output_type": "execute_result"
    }
   ],
   "source": [
    "# Поместить числа от 1 до 9 в матрицу 3x3\n",
    "grid = np.arange(1, 10).reshape((3, 3))\n",
    "grid"
   ]
  },
  {
   "cell_type": "markdown",
   "id": "cce65f44-7008-408e-b4d9-3a725e0d4e6d",
   "metadata": {},
   "source": [
    "РАЗМЕР ИСХОДНОГО МАССИВА ДОЛЖЕН БЫТЬ = ИЗМЕНЕННОМУ РАЗМЕРУ."
   ]
  },
  {
   "cell_type": "code",
   "execution_count": 54,
   "id": "a090d60d-fa58-41bd-96d3-dcebe2affbc7",
   "metadata": {},
   "outputs": [],
   "source": [
    "# Преобразование одномерного массива в матрицу-строку или матрицу столбец (лучше использовать newaxis)\n",
    "x = np.array([1, 2, 3])"
   ]
  },
  {
   "cell_type": "code",
   "execution_count": 56,
   "id": "afd54a71-5c44-46dc-9a13-2990e887203f",
   "metadata": {},
   "outputs": [
    {
     "data": {
      "text/plain": [
       "array([[1],\n",
       "       [2],\n",
       "       [3]])"
      ]
     },
     "execution_count": 56,
     "metadata": {},
     "output_type": "execute_result"
    }
   ],
   "source": [
    "# С помощью reshape(). Матрица столбец\n",
    "x.reshape((3, 1))"
   ]
  },
  {
   "cell_type": "code",
   "execution_count": 57,
   "id": "c47f6510-db8a-4053-9f00-97bbab219abf",
   "metadata": {},
   "outputs": [
    {
     "data": {
      "text/plain": [
       "array([[1, 2, 3]])"
      ]
     },
     "execution_count": 57,
     "metadata": {},
     "output_type": "execute_result"
    }
   ],
   "source": [
    "# С помощью reshape(). Матрица строка\n",
    "x.reshape(1, 3)"
   ]
  },
  {
   "cell_type": "code",
   "execution_count": 60,
   "id": "044a033a-51c2-475a-b04b-6fb416f78dad",
   "metadata": {},
   "outputs": [
    {
     "data": {
      "text/plain": [
       "array([[1],\n",
       "       [2],\n",
       "       [3]])"
      ]
     },
     "execution_count": 60,
     "metadata": {},
     "output_type": "execute_result"
    }
   ],
   "source": [
    "# В матрицу столбец используя newaxis\n",
    "x[:, np.newaxis]"
   ]
  },
  {
   "cell_type": "markdown",
   "id": "353a0ab0-5245-4226-9f42-c27b7ae4eed0",
   "metadata": {},
   "source": [
    "### Слияние и разбиение массивов"
   ]
  },
  {
   "cell_type": "markdown",
   "id": "897291e0-d26c-4269-988e-178c2b09445d",
   "metadata": {},
   "source": [
    "#### Слияние"
   ]
  },
  {
   "cell_type": "markdown",
   "id": "34a8c3d7-ee4b-4d02-9d88-aa745fb9c414",
   "metadata": {},
   "source": [
    "Используют: **np.concatenate. np.vstack, np.hstack**"
   ]
  },
  {
   "cell_type": "code",
   "execution_count": 62,
   "id": "223ef8fc-5b14-4a66-aaa2-8c46bf27c390",
   "metadata": {},
   "outputs": [
    {
     "data": {
      "text/plain": [
       "array([1, 2, 3, 3, 2, 1])"
      ]
     },
     "execution_count": 62,
     "metadata": {},
     "output_type": "execute_result"
    }
   ],
   "source": [
    "# np.concatenate принимает на вхож кортеж или список массивов\n",
    "x = np.array([1, 2, 3])\n",
    "y = np.array([3, 2, 1])\n",
    "np.concatenate([x, y])"
   ]
  },
  {
   "cell_type": "code",
   "execution_count": 63,
   "id": "57b343f5-df65-4499-8aca-b31a13666a34",
   "metadata": {},
   "outputs": [
    {
     "data": {
      "text/plain": [
       "array([ 1,  2,  3,  3,  2,  1, 99, 99, 99])"
      ]
     },
     "execution_count": 63,
     "metadata": {},
     "output_type": "execute_result"
    }
   ],
   "source": [
    "# Можно более двух\n",
    "z = np.array([99, 99 ,99])\n",
    "np.concatenate([x, y, z])"
   ]
  },
  {
   "cell_type": "code",
   "execution_count": 69,
   "id": "0ec868b4-86ac-492e-b551-48aab85461e8",
   "metadata": {},
   "outputs": [
    {
     "data": {
      "text/plain": [
       "array([[1, 2, 3],\n",
       "       [4, 5, 6]])"
      ]
     },
     "execution_count": 69,
     "metadata": {},
     "output_type": "execute_result"
    }
   ],
   "source": [
    "# Объединение двумерных массивов\n",
    "grid = np.array([[1, 2, 3],\n",
    "                [4, 5 ,6]])\n",
    "grid"
   ]
  },
  {
   "cell_type": "code",
   "execution_count": 67,
   "id": "b9217290-bc48-4826-be17-80514d3ece23",
   "metadata": {},
   "outputs": [
    {
     "data": {
      "text/plain": [
       "array([[1, 2, 3],\n",
       "       [4, 5, 6],\n",
       "       [1, 2, 3],\n",
       "       [4, 5, 6]])"
      ]
     },
     "execution_count": 67,
     "metadata": {},
     "output_type": "execute_result"
    }
   ],
   "source": [
    "# Слияние по первой оси координат\n",
    "np.concatenate([grid, grid])"
   ]
  },
  {
   "cell_type": "code",
   "execution_count": 70,
   "id": "5702555e-bbe3-4c9c-b84c-7379e10fe113",
   "metadata": {},
   "outputs": [
    {
     "data": {
      "text/plain": [
       "array([[1, 2, 3, 1, 2, 3],\n",
       "       [4, 5, 6, 4, 5, 6]])"
      ]
     },
     "execution_count": 70,
     "metadata": {},
     "output_type": "execute_result"
    }
   ],
   "source": [
    "# Слияние по второй оси коордианат (с индексом 0)\n",
    "np.concatenate([grid, grid], axis=1)\n"
   ]
  },
  {
   "cell_type": "markdown",
   "id": "df28fb1a-7109-4ba0-87ff-455acdd12db8",
   "metadata": {},
   "source": [
    "Если размеры у массивов разные - то для конкатенации по вертикали используем np.vstack, для горизонтали - np.hstack."
   ]
  },
  {
   "cell_type": "code",
   "execution_count": 73,
   "id": "d2137587-5e1f-43a7-8d4e-dad4bdca502f",
   "metadata": {},
   "outputs": [
    {
     "data": {
      "text/plain": [
       "array([[1, 2, 3],\n",
       "       [9, 8, 7],\n",
       "       [6, 5, 4]])"
      ]
     },
     "execution_count": 73,
     "metadata": {},
     "output_type": "execute_result"
    }
   ],
   "source": [
    "x = np.array([1, 2, 3])\n",
    "grid = np.array([[9, 8, 7],\n",
    "                 [6, 5, 4]])\n",
    "\n",
    "np.vstack([x, grid])"
   ]
  },
  {
   "cell_type": "code",
   "execution_count": 76,
   "id": "f37e6648-86bf-406a-9fa6-a2f098111a11",
   "metadata": {},
   "outputs": [
    {
     "data": {
      "text/plain": [
       "array([[ 9,  8,  7, 99],\n",
       "       [ 6,  5,  4, 99]])"
      ]
     },
     "execution_count": 76,
     "metadata": {},
     "output_type": "execute_result"
    }
   ],
   "source": [
    "y = np.array([[99],\n",
    "             [99]])\n",
    "\n",
    "np.hstack([grid, y])"
   ]
  },
  {
   "cell_type": "markdown",
   "id": "71ed8046-0f15-4f50-afdf-67076e2aa0e0",
   "metadata": {},
   "source": [
    "Функция **np.dstack** аналогично объединяет массивы по третьей оси"
   ]
  },
  {
   "cell_type": "markdown",
   "id": "17b7d327-42b9-4cd4-9f6d-7267cd4e8998",
   "metadata": {},
   "source": [
    "#### Разбиение массивов"
   ]
  },
  {
   "cell_type": "markdown",
   "id": "cc9907c7-55da-4ba6-8dd8-66df48247c0a",
   "metadata": {},
   "source": [
    "Используют: **np.split. np.vsplit, np.hsplit**. В каждый из них нужно передавать список с индексами, которые будут разделять исходный массив."
   ]
  },
  {
   "cell_type": "code",
   "execution_count": 81,
   "id": "e24fba25-9faa-418d-aa66-a52af8ffb2fa",
   "metadata": {},
   "outputs": [],
   "source": [
    "x = [1, 2, 3, 99, 99, 3, 2, 1]"
   ]
  },
  {
   "cell_type": "code",
   "execution_count": 82,
   "id": "e56b074c-a380-4387-82c5-4ffe0ad34751",
   "metadata": {},
   "outputs": [
    {
     "name": "stdout",
     "output_type": "stream",
     "text": [
      "[1 2 3] [99 99] [3 2 1]\n"
     ]
    }
   ],
   "source": [
    "x1, x2, x3 = np.split(x, [3, 5])\n",
    "print(x1, x2, x3)"
   ]
  },
  {
   "cell_type": "code",
   "execution_count": 83,
   "id": "3a19a0f9-6e5b-413b-840b-326dedc602f0",
   "metadata": {},
   "outputs": [
    {
     "data": {
      "text/plain": [
       "array([[ 0,  1,  2,  3],\n",
       "       [ 4,  5,  6,  7],\n",
       "       [ 8,  9, 10, 11],\n",
       "       [12, 13, 14, 15]])"
      ]
     },
     "execution_count": 83,
     "metadata": {},
     "output_type": "execute_result"
    }
   ],
   "source": [
    "grid = np.arange(16).reshape((4, 4))\n",
    "grid"
   ]
  },
  {
   "cell_type": "code",
   "execution_count": 87,
   "id": "8ccaff6e-bf7a-4f33-97db-95022b10e7f0",
   "metadata": {},
   "outputs": [
    {
     "name": "stdout",
     "output_type": "stream",
     "text": [
      "[[0 1 2 3]\n",
      " [4 5 6 7]]\n",
      "[[ 8  9 10 11]\n",
      " [12 13 14 15]]\n"
     ]
    }
   ],
   "source": [
    "upper, lower = np.vsplit(grid, [2])\n",
    "print(upper)\n",
    "print(lower)\n"
   ]
  },
  {
   "cell_type": "code",
   "execution_count": 89,
   "id": "a3e44e9d-ece6-4383-8ab1-3b8d9080b6e3",
   "metadata": {},
   "outputs": [
    {
     "name": "stdout",
     "output_type": "stream",
     "text": [
      "[[ 0  1]\n",
      " [ 4  5]\n",
      " [ 8  9]\n",
      " [12 13]]\n",
      "[[ 2  3]\n",
      " [ 6  7]\n",
      " [10 11]\n",
      " [14 15]]\n"
     ]
    }
   ],
   "source": [
    "left, right = np.hsplit(grid, [2])\n",
    "print(left)\n",
    "print(right)"
   ]
  },
  {
   "cell_type": "markdown",
   "id": "03a50df7-4fc9-4114-8096-841019e9edd8",
   "metadata": {},
   "source": [
    "Функция **np.dsplit** разделяем массивы по третьей оси"
   ]
  },
  {
   "cell_type": "markdown",
   "id": "1babb4a2-6a1d-4f70-98d8-94d90823487c",
   "metadata": {},
   "source": [
    "### Выполнения вычислений над массивами библиотеки NumPy: универсальные функции"
   ]
  },
  {
   "cell_type": "markdown",
   "id": "65b2cb0f-8d61-4ee3-adfe-cf4d7c9a2b60",
   "metadata": {},
   "source": [
    "#### Арифметические функции над массивами"
   ]
  },
  {
   "cell_type": "code",
   "execution_count": 92,
   "id": "d2c1eb3f-32a4-449e-aa4c-134658265d25",
   "metadata": {},
   "outputs": [
    {
     "data": {
      "text/plain": [
       "array([0, 1, 2, 3])"
      ]
     },
     "execution_count": 92,
     "metadata": {},
     "output_type": "execute_result"
    }
   ],
   "source": [
    "x = np.arange(4)\n",
    "x"
   ]
  },
  {
   "cell_type": "code",
   "execution_count": 95,
   "id": "2c736466-0fad-40ee-b281-441466332438",
   "metadata": {},
   "outputs": [
    {
     "name": "stdout",
     "output_type": "stream",
     "text": [
      "x =  [0 1 2 3]\n",
      "x + 5 = [5 6 7 8]\n",
      "x - 5 = [-5 -4 -3 -2]\n",
      "x * 2 = [0 2 4 6]\n",
      "x / 2 = [0.  0.5 1.  1.5]\n",
      "x ** 2 = [0 1 4 9]\n"
     ]
    }
   ],
   "source": [
    "print('x = ', x)\n",
    "print('x + 5 =', x + 5)\n",
    "print('x - 5 =', x - 5)\n",
    "print('x * 2 =', x * 2)\n",
    "print('x / 2 =', x / 2)\n",
    "print('x ** 2 =', x ** 2)"
   ]
  },
  {
   "cell_type": "code",
   "execution_count": 96,
   "id": "5769c41b-1d1b-4eef-8f06-2fc4096c98cd",
   "metadata": {},
   "outputs": [
    {
     "data": {
      "text/plain": [
       "array([-1.  , -2.25, -4.  , -6.25])"
      ]
     },
     "execution_count": 96,
     "metadata": {},
     "output_type": "execute_result"
    }
   ],
   "source": [
    "# Можно соединять в несколько операций (преоритет будет соблюдаться)\n",
    "-(0.5*x + 1) ** 2"
   ]
  },
  {
   "cell_type": "markdown",
   "id": "4e431c98-a323-4541-866c-724f99908f9d",
   "metadata": {},
   "source": [
    "Все арифметические функции - удобные адаптеры для встроенных функций библиотеки NumPy."
   ]
  },
  {
   "cell_type": "code",
   "execution_count": 97,
   "id": "c316b2d4-677e-4219-99a8-de914e688feb",
   "metadata": {},
   "outputs": [
    {
     "data": {
      "text/plain": [
       "array([2, 3, 4, 5])"
      ]
     },
     "execution_count": 97,
     "metadata": {},
     "output_type": "execute_result"
    }
   ],
   "source": [
    "# Например операция \"+\" это .add()\n",
    "np.add(x, 2)"
   ]
  },
  {
   "cell_type": "markdown",
   "id": "3aef687f-ea0f-46ca-84d1-de47ad1946fc",
   "metadata": {},
   "source": [
    "#### Абсолютное значение"
   ]
  },
  {
   "cell_type": "code",
   "execution_count": 98,
   "id": "9f0ad283-a205-49bd-9d43-a0f7e8058f1b",
   "metadata": {},
   "outputs": [
    {
     "data": {
      "text/plain": [
       "array([2, 1, 0, 1, 2])"
      ]
     },
     "execution_count": 98,
     "metadata": {},
     "output_type": "execute_result"
    }
   ],
   "source": [
    "x = np.array([-2, -1, 0, 1, 2])\n",
    "abs(x)"
   ]
  },
  {
   "cell_type": "code",
   "execution_count": 99,
   "id": "46872c65-b994-4e8a-bd89-80fec5c033ba",
   "metadata": {},
   "outputs": [
    {
     "data": {
      "text/plain": [
       "array([2, 1, 0, 1, 2])"
      ]
     },
     "execution_count": 99,
     "metadata": {},
     "output_type": "execute_result"
    }
   ],
   "source": [
    "np.absolute(x)"
   ]
  },
  {
   "cell_type": "code",
   "execution_count": 100,
   "id": "bdffb0f7-dbcf-499d-ab99-7b65c89c8222",
   "metadata": {},
   "outputs": [
    {
     "data": {
      "text/plain": [
       "array([2, 1, 0, 1, 2])"
      ]
     },
     "execution_count": 100,
     "metadata": {},
     "output_type": "execute_result"
    }
   ],
   "source": [
    "np.abs(x)"
   ]
  },
  {
   "cell_type": "markdown",
   "id": "819bb8ef-4351-4c22-8cf5-800e01f91df6",
   "metadata": {},
   "source": [
    "#### Тригонометрические функции"
   ]
  },
  {
   "cell_type": "code",
   "execution_count": 102,
   "id": "b6cd1edd-4237-4ab4-8bdb-8516448e4d68",
   "metadata": {},
   "outputs": [
    {
     "data": {
      "text/plain": [
       "array([0.        , 1.57079633, 3.14159265])"
      ]
     },
     "execution_count": 102,
     "metadata": {},
     "output_type": "execute_result"
    }
   ],
   "source": [
    "theta = np.linspace(0, np.pi, 3) # np.linspace - равномерно распределенные значения между 0 и PI (3 штуки)\n",
    "theta"
   ]
  },
  {
   "cell_type": "code",
   "execution_count": 103,
   "id": "d9dbc773-a32f-4bc8-b395-92726a83e94b",
   "metadata": {},
   "outputs": [
    {
     "name": "stdout",
     "output_type": "stream",
     "text": [
      "cos(theta) =  [ 1.000000e+00  6.123234e-17 -1.000000e+00]\n",
      "sin(theta) =  [0.0000000e+00 1.0000000e+00 1.2246468e-16]\n"
     ]
    }
   ],
   "source": [
    "print('cos(theta) = ', np.cos(theta))\n",
    "print('sin(theta) = ', np.sin(theta))"
   ]
  },
  {
   "cell_type": "markdown",
   "id": "072f836a-dede-4f40-a359-920d0f77c93b",
   "metadata": {},
   "source": [
    "#### Показательные функции и логарифмы"
   ]
  },
  {
   "cell_type": "code",
   "execution_count": 104,
   "id": "b16e749f-8a43-452c-8512-24889bc99b20",
   "metadata": {},
   "outputs": [
    {
     "data": {
      "text/plain": [
       "[1, 2, 3]"
      ]
     },
     "execution_count": 104,
     "metadata": {},
     "output_type": "execute_result"
    }
   ],
   "source": [
    "x = [1, 2, 3]\n",
    "x"
   ]
  },
  {
   "cell_type": "code",
   "execution_count": 109,
   "id": "15daeebd-4aa6-4284-9796-6fae2876b84e",
   "metadata": {},
   "outputs": [
    {
     "name": "stdout",
     "output_type": "stream",
     "text": [
      "e^x =  [ 2.71828183  7.3890561  20.08553692]\n",
      "2^x =  [2. 4. 8.]\n",
      "3^x =  [ 1  8 27]\n"
     ]
    }
   ],
   "source": [
    "print('e^x = ', np.exp(x))\n",
    "print('2^x = ', np.exp2(x))\n",
    "print('3^x = ', np.power(x, 3))"
   ]
  },
  {
   "cell_type": "code",
   "execution_count": 110,
   "id": "ce52d3b2-45eb-4538-bb0d-5a6c355d91b4",
   "metadata": {},
   "outputs": [
    {
     "name": "stdout",
     "output_type": "stream",
     "text": [
      "ln(x) =  [0.         0.69314718 1.09861229]\n",
      "log2(x) =  [0.        1.        1.5849625]\n",
      "log10(x) =  [0.         0.30103    0.47712125]\n"
     ]
    }
   ],
   "source": [
    "print('ln(x) = ', np.log(x)) # По натуральному основанию\n",
    "print('log2(x) = ', np.log2(x))\n",
    "print('log10(x) = ', np.log10(x))"
   ]
  },
  {
   "cell_type": "markdown",
   "id": "bfaa3c2f-96d2-4c8d-b5e1-c56f18cda678",
   "metadata": {},
   "source": [
    "#### Специализированные универсальные функции "
   ]
  },
  {
   "cell_type": "markdown",
   "id": "3bdc3f54-fc9c-4844-ae32-4a29b8d7068a",
   "metadata": {},
   "source": [
    "Если необходимо вычислить значение какой-то хитрой математической функции - найти можно в **scipy.special**."
   ]
  },
  {
   "cell_type": "code",
   "execution_count": 3,
   "id": "1ae48a46-cd32-4a04-9022-77f993446c6b",
   "metadata": {},
   "outputs": [],
   "source": [
    "from scipy import special"
   ]
  },
  {
   "cell_type": "code",
   "execution_count": 8,
   "id": "cf25728e-4160-4b03-bc70-e2bf647e10a2",
   "metadata": {},
   "outputs": [
    {
     "name": "stdout",
     "output_type": "stream",
     "text": [
      "gamma(x) = [1.0000e+00 2.4000e+01 3.6288e+05]\n",
      "ln|gamma(x) = [ 0.          3.17805383 12.80182748]\n",
      "beta(x, 2) = [0.5        0.03333333 0.00909091]\n"
     ]
    }
   ],
   "source": [
    "# Гамма-функции (обобщенные факториалы) и тому подобные функции\n",
    "x = [1, 5, 10]\n",
    "print('gamma(x) =', special.gamma(x))\n",
    "print('ln|gamma(x) =', special.gammaln(x))\n",
    "print('beta(x, 2) =', special.beta(x, 2))"
   ]
  },
  {
   "cell_type": "code",
   "execution_count": 10,
   "id": "69e3e9cc-5754-43ad-b163-d17795804755",
   "metadata": {},
   "outputs": [
    {
     "name": "stdout",
     "output_type": "stream",
     "text": [
      "erf(x) = [0.         0.32862676 0.67780119 0.84270079]\n",
      "erfc(x) = [1.         0.67137324 0.32219881 0.15729921]\n",
      "erfinv(x) = [0.         0.27246271 0.73286908        inf]\n"
     ]
    }
   ],
   "source": [
    "# Функция ошибок (интеграл от Гауссовой функции),\n",
    "# дополнительная и обратная к ней функции\n",
    "x = np.array([0, 0.3, 0.7, 1.0])\n",
    "print('erf(x) =', special.erf(x))\n",
    "print('erfc(x) =', special.erfc(x))\n",
    "print('erfinv(x) =', special.erfinv(x))"
   ]
  },
  {
   "cell_type": "markdown",
   "id": "c29d6237-71a6-4350-893d-0f1c7d14145c",
   "metadata": {},
   "source": [
    "### Продвинутые возможности универсальных функций"
   ]
  },
  {
   "cell_type": "markdown",
   "id": "d7a9831b-ca02-4ff0-9393-bbf3e6c72a1c",
   "metadata": {},
   "source": [
    "#### Указание массива для вывода результата"
   ]
  },
  {
   "cell_type": "markdown",
   "id": "0ccbec4b-ce0f-45b9-9a71-64da32c1016c",
   "metadata": {},
   "source": [
    "Вместо того, чтобы создавать временный массив можно воспользоваться возможностью для записи результатов вычислений\n",
    "непосредственно в нужное место в памяти. Для любой универсальной функции можно сделать через аргумент **out**."
   ]
  },
  {
   "cell_type": "code",
   "execution_count": 11,
   "id": "92faa6a9-d306-40ce-887d-b11d6a3f43de",
   "metadata": {},
   "outputs": [
    {
     "name": "stdout",
     "output_type": "stream",
     "text": [
      "[ 0. 10. 20. 30. 40.]\n"
     ]
    }
   ],
   "source": [
    "x = np.arange(5)\n",
    "y = np.empty(5)\n",
    "np.multiply(x, 10, out=y)\n",
    "print(y)"
   ]
  },
  {
   "cell_type": "code",
   "execution_count": 12,
   "id": "834b9532-fbb9-4444-9ff3-49b91cc79040",
   "metadata": {},
   "outputs": [
    {
     "name": "stdout",
     "output_type": "stream",
     "text": [
      "[ 1.  0.  2.  0.  4.  0.  8.  0. 16.  0.]\n"
     ]
    }
   ],
   "source": [
    "# Например можно записать результат в каждый второй элемент массива\n",
    "y = np.zeros(10)\n",
    "np.power(2, x, out=y[::2])\n",
    "print(y)"
   ]
  },
  {
   "cell_type": "markdown",
   "id": "590a00af-774c-46ba-a7ec-3c53b8dacf8b",
   "metadata": {},
   "source": [
    "Если бы я написал y[::2] = 2 ** x, был бы создан временный массив для хранения результатов операции 2 ** x с последующим копированием этих значений в массив y. Для большого массива - это занимало бы много памяти."
   ]
  },
  {
   "cell_type": "markdown",
   "id": "cf2cc578-d078-47b1-acbd-9abfe34b19c0",
   "metadata": {},
   "source": [
    "#### Сводные показатели"
   ]
  },
  {
   "cell_type": "markdown",
   "id": "e15cc3b4-7981-452c-8318-3e6c91d05b09",
   "metadata": {},
   "source": [
    "У бинарных универсальных функций есть возможность вычислять непосредственно на основе объекта некоторые свобдные данные."
   ]
  },
  {
   "cell_type": "code",
   "execution_count": 17,
   "id": "cfa4a536-ddbc-440a-aad1-79b543e5493f",
   "metadata": {},
   "outputs": [
    {
     "name": "stdout",
     "output_type": "stream",
     "text": [
      "[1 2 3 4 5]\n"
     ]
    },
    {
     "data": {
      "text/plain": [
       "15"
      ]
     },
     "execution_count": 17,
     "metadata": {},
     "output_type": "execute_result"
    }
   ],
   "source": [
    "# Например, вызов метода reduce для универсальной функции add возвращает сумму всех элементов массива\n",
    "x = np.arange(1, 6)\n",
    "print(x)\n",
    "np.add.reduce(x)"
   ]
  },
  {
   "cell_type": "code",
   "execution_count": 20,
   "id": "bf04af67-fa19-4149-b861-a0d6b7ff9f97",
   "metadata": {},
   "outputs": [
    {
     "data": {
      "text/plain": [
       "120"
      ]
     },
     "execution_count": 20,
     "metadata": {},
     "output_type": "execute_result"
    }
   ],
   "source": [
    "np.multiply.reduce(x)"
   ]
  },
  {
   "cell_type": "code",
   "execution_count": 21,
   "id": "752324e5-42dd-4686-96cc-68f372ab693a",
   "metadata": {},
   "outputs": [
    {
     "data": {
      "text/plain": [
       "array([ 1,  3,  6, 10, 15])"
      ]
     },
     "execution_count": 21,
     "metadata": {},
     "output_type": "execute_result"
    }
   ],
   "source": [
    "# Если нужно сохранить все промежуточные результаты можно также воспользоваться функцией accumulate\n",
    "np.add.accumulate(x)"
   ]
  },
  {
   "cell_type": "code",
   "execution_count": 22,
   "id": "361c6352-4e68-419b-bce0-81a67198e368",
   "metadata": {},
   "outputs": [
    {
     "data": {
      "text/plain": [
       "array([  1,   2,   6,  24, 120])"
      ]
     },
     "execution_count": 22,
     "metadata": {},
     "output_type": "execute_result"
    }
   ],
   "source": [
    "np.multiply.accumulate(x)"
   ]
  },
  {
   "cell_type": "markdown",
   "id": "e14c922d-2bd2-4904-8551-de0952bf998e",
   "metadata": {},
   "source": [
    "#### Векторные произведения"
   ]
  },
  {
   "cell_type": "code",
   "execution_count": 23,
   "id": "75b116bc-3e8e-495a-9bdc-6515f550ee0b",
   "metadata": {},
   "outputs": [
    {
     "data": {
      "text/plain": [
       "array([[ 1,  2,  3,  4,  5],\n",
       "       [ 2,  4,  6,  8, 10],\n",
       "       [ 3,  6,  9, 12, 15],\n",
       "       [ 4,  8, 12, 16, 20],\n",
       "       [ 5, 10, 15, 20, 25]])"
      ]
     },
     "execution_count": 23,
     "metadata": {},
     "output_type": "execute_result"
    }
   ],
   "source": [
    "x = np.arange(1, 6)\n",
    "np.multiply.outer(x, x)"
   ]
  },
  {
   "cell_type": "markdown",
   "id": "4f542052-9beb-47c5-954a-891083fddb41",
   "metadata": {},
   "source": [
    "### Агрегирование: минимум, максимум и все, что посередине"
   ]
  },
  {
   "cell_type": "markdown",
   "id": "a32f6935-2961-426d-b335-49ddcdd1df9f",
   "metadata": {},
   "source": [
    "#### Суммирование значений из массива"
   ]
  },
  {
   "cell_type": "code",
   "execution_count": 26,
   "id": "ba7bb641-e310-4f26-9154-3f9d788011ce",
   "metadata": {},
   "outputs": [
    {
     "name": "stdout",
     "output_type": "stream",
     "text": [
      "[0.40284844 0.44759685 0.75236285 0.88099569 0.36224636 0.13650429\n",
      " 0.33446631 0.63492864 0.45994047 0.04637075 0.7057438  0.6337722\n",
      " 0.38257271 0.46196338 0.88434634 0.0580874  0.98579689 0.59007132\n",
      " 0.49731914 0.43226559 0.79271908 0.79700851 0.64947844 0.66803976\n",
      " 0.27773824 0.02461377 0.11574887 0.68237076 0.19174297 0.47058632\n",
      " 0.88948205 0.22835727 0.83774402 0.06354303 0.23067676 0.96859936\n",
      " 0.44583058 0.80614126 0.41169467 0.24880891 0.4727165  0.9825564\n",
      " 0.2475412  0.18629197 0.55816498 0.06019251 0.93561982 0.05785855\n",
      " 0.75652867 0.60030305 0.74173375 0.48466178 0.61936442 0.18220209\n",
      " 0.22425445 0.3270165  0.46354602 0.46784263 0.79482925 0.21810333\n",
      " 0.14985621 0.67806021 0.99958741 0.93177072 0.03441482 0.19969747\n",
      " 0.18480873 0.29873049 0.89273813 0.52431087 0.15215513 0.74029162\n",
      " 0.27888086 0.95481474 0.4770792  0.38381159 0.55452955 0.43387761\n",
      " 0.78514319 0.15899803 0.63856531 0.40118753 0.58309565 0.86398367\n",
      " 0.69744592 0.19142194 0.52276313 0.80242404 0.85327978 0.7491595\n",
      " 0.41761441 0.23887799 0.98025977 0.13318308 0.95488492 0.24108548\n",
      " 0.70408986 0.39060074 0.60280142 0.19239122]\n"
     ]
    },
    {
     "data": {
      "text/plain": [
       "50.24512388083854"
      ]
     },
     "execution_count": 26,
     "metadata": {},
     "output_type": "execute_result"
    }
   ],
   "source": [
    "L = np.random.random(100)\n",
    "print(L)"
   ]
  },
  {
   "cell_type": "code",
   "execution_count": 27,
   "id": "02bb1cb5-7d8b-4ac0-b342-036320c02229",
   "metadata": {},
   "outputs": [
    {
     "data": {
      "text/plain": [
       "50.24512388083854"
      ]
     },
     "execution_count": 27,
     "metadata": {},
     "output_type": "execute_result"
    }
   ],
   "source": [
    "sum(L)"
   ]
  },
  {
   "cell_type": "code",
   "execution_count": 28,
   "id": "93ce16c4-a56f-41eb-90ee-85537a100a4c",
   "metadata": {},
   "outputs": [
    {
     "data": {
      "text/plain": [
       "50.24512388083853"
      ]
     },
     "execution_count": 28,
     "metadata": {},
     "output_type": "execute_result"
    }
   ],
   "source": [
    "np.sum(L)"
   ]
  },
  {
   "cell_type": "markdown",
   "id": "e4e25859-bc56-4a80-a245-78545e22baf5",
   "metadata": {},
   "source": [
    "Однако, поскольку функция sum выполняет операцию в скомпилированном коде, версия библиотеки NumPy данной операции работает намного быстрее."
   ]
  },
  {
   "cell_type": "code",
   "execution_count": 29,
   "id": "a64e5d40-23b3-434f-b705-171b59d8cd13",
   "metadata": {},
   "outputs": [
    {
     "name": "stdout",
     "output_type": "stream",
     "text": [
      "43.5 ms ± 1.09 ms per loop (mean ± std. dev. of 7 runs, 10 loops each)\n",
      "233 µs ± 4.58 µs per loop (mean ± std. dev. of 7 runs, 1,000 loops each)\n"
     ]
    }
   ],
   "source": [
    "big_array = np.random.rand(1000000)\n",
    "%timeit sum(big_array)\n",
    "%timeit np.sum(big_array)"
   ]
  },
  {
   "cell_type": "markdown",
   "id": "49abc23a-153c-46e2-944d-95b2f4ec904c",
   "metadata": {},
   "source": [
    "#### Минимум и максимум\n"
   ]
  },
  {
   "cell_type": "code",
   "execution_count": 30,
   "id": "bc49bcef-e152-4c12-94a1-f8712b8c791f",
   "metadata": {},
   "outputs": [
    {
     "data": {
      "text/plain": [
       "(1.55089285636123e-07, 0.9999985676508202)"
      ]
     },
     "execution_count": 30,
     "metadata": {},
     "output_type": "execute_result"
    }
   ],
   "source": [
    "# В \"чистом\" питоне есть встроенные функции min и max\n",
    "min(big_array), max(big_array)"
   ]
  },
  {
   "cell_type": "code",
   "execution_count": 31,
   "id": "42ffb6db-42a0-4e68-9584-1e8043548fcc",
   "metadata": {},
   "outputs": [
    {
     "data": {
      "text/plain": [
       "(1.55089285636123e-07, 0.9999985676508202)"
      ]
     },
     "execution_count": 31,
     "metadata": {},
     "output_type": "execute_result"
    }
   ],
   "source": [
    "# В NumPy намного быстрее все используется\n",
    "np.min(big_array), np.max(big_array)"
   ]
  },
  {
   "cell_type": "code",
   "execution_count": 32,
   "id": "984fa9a7-3117-44fe-8337-9dd65230c4df",
   "metadata": {},
   "outputs": [
    {
     "name": "stdout",
     "output_type": "stream",
     "text": [
      "28.7 ms ± 1.25 ms per loop (mean ± std. dev. of 7 runs, 10 loops each)\n",
      "132 µs ± 2.08 µs per loop (mean ± std. dev. of 7 runs, 10,000 loops each)\n"
     ]
    }
   ],
   "source": [
    "%timeit min(big_array)\n",
    "%timeit np.min(big_array)"
   ]
  },
  {
   "cell_type": "code",
   "execution_count": 33,
   "id": "efd0b459-c89f-489f-bde1-4f0d0afb60a5",
   "metadata": {},
   "outputs": [
    {
     "name": "stdout",
     "output_type": "stream",
     "text": [
      "1.55089285636123e-07 0.9999985676508202 499681.6234504777\n"
     ]
    }
   ],
   "source": [
    "# Можно использовать методы самих np массивов\n",
    "print(big_array.min(), big_array.max(), big_array.sum())"
   ]
  },
  {
   "cell_type": "markdown",
   "id": "47eb43d0-68a8-4975-8c4b-54062f265768",
   "metadata": {},
   "source": [
    "#### Многомерные свобдные показатели"
   ]
  },
  {
   "cell_type": "code",
   "execution_count": 35,
   "id": "c19fcb47-8400-4d5d-a2a4-709ec30e30cc",
   "metadata": {},
   "outputs": [
    {
     "name": "stdout",
     "output_type": "stream",
     "text": [
      "[[0.69180396 0.13024544 0.59371425 0.15809124]\n",
      " [0.2300706  0.78312563 0.96608484 0.5242816 ]\n",
      " [0.34709711 0.61008145 0.37060662 0.82251626]]\n"
     ]
    }
   ],
   "source": [
    "# Если нужно в матрице узнать min только среди всех столбцов\n",
    "M = np.random.random((3, 4))\n",
    "print(M)"
   ]
  },
  {
   "cell_type": "code",
   "execution_count": 36,
   "id": "d9156946-c463-4b02-919f-96fa7e8c640f",
   "metadata": {},
   "outputs": [
    {
     "data": {
      "text/plain": [
       "array([0.2300706 , 0.13024544, 0.37060662, 0.15809124])"
      ]
     },
     "execution_count": 36,
     "metadata": {},
     "output_type": "execute_result"
    }
   ],
   "source": [
    "M.min(axis=0)"
   ]
  },
  {
   "cell_type": "code",
   "execution_count": 37,
   "id": "89ce80f0-c280-405d-b7c5-1e1f08882018",
   "metadata": {},
   "outputs": [
    {
     "data": {
      "text/plain": [
       "array([0.69180396, 0.96608484, 0.82251626])"
      ]
     },
     "execution_count": 37,
     "metadata": {},
     "output_type": "execute_result"
    }
   ],
   "source": [
    "# max в каждой строке\n",
    "M.max(axis=1)"
   ]
  },
  {
   "cell_type": "markdown",
   "id": "991a36c7-c2e2-4e74-befc-325c6990778d",
   "metadata": {},
   "source": [
    "### Пример: чему равен средний рост президентов"
   ]
  },
  {
   "cell_type": "markdown",
   "id": "ee141dc5-79ee-4866-ab07-f18d29c8f641",
   "metadata": {},
   "source": [
    "Пример использования агрегированных функций - рост президентов США."
   ]
  },
  {
   "cell_type": "code",
   "execution_count": 3,
   "id": "3c5eddc7-9ba3-4123-86e2-44d09000b39e",
   "metadata": {},
   "outputs": [],
   "source": [
    "import pandas as pd"
   ]
  },
  {
   "cell_type": "code",
   "execution_count": 5,
   "id": "a6a0e5a9-5add-4b06-a0c1-c55197e2a691",
   "metadata": {},
   "outputs": [
    {
     "name": "stdout",
     "output_type": "stream",
     "text": [
      "[189 170 189 163 183 171 185 168 173 183 173 173 175 178 183 193 178 173\n",
      " 174 183 183 168 170 178 182 180 183 178 182 188 175 179 183 193 182 183\n",
      " 177 185 188 188 182 185 191 182]\n"
     ]
    }
   ],
   "source": [
    "data = pd.read_csv(\"./DB/president_heights.csv\")\n",
    "heights = np.array(data[\"height(cm)\"])\n",
    "print(heights)"
   ]
  },
  {
   "cell_type": "code",
   "execution_count": 6,
   "id": "f3d3d9c0-66da-4649-b086-5e45e89a367e",
   "metadata": {},
   "outputs": [
    {
     "name": "stdout",
     "output_type": "stream",
     "text": [
      "Mean height: 180.04545454545453\n",
      "Standart deviation: 6.983599441335736\n",
      "Minimum height: 163\n",
      "Maximum height: 193\n"
     ]
    }
   ],
   "source": [
    "# Можно уже вычислить много сводных статестических показателей\n",
    "print('Mean height:', heights.mean())\n",
    "print('Standart deviation:', heights.std())\n",
    "print('Minimum height:', heights.min())\n",
    "print('Maximum height:', heights.max())"
   ]
  },
  {
   "cell_type": "code",
   "execution_count": 8,
   "id": "e37b042c-c471-45a5-9793-868da38f1332",
   "metadata": {},
   "outputs": [
    {
     "name": "stdout",
     "output_type": "stream",
     "text": [
      "25th percentile: 174.75\n",
      "50th percentile (Median): 182.0\n",
      "75th percentile: 183.5\n"
     ]
    }
   ],
   "source": [
    "print('25th percentile:', np.percentile(heights, 25))\n",
    "print('50th percentile (Median):', np.median(heights))\n",
    "print('75th percentile:', np.percentile(heights, 75))\n",
    "\n"
   ]
  },
  {
   "cell_type": "markdown",
   "id": "ff413fe0-448d-485b-9e11-e28dde1d009b",
   "metadata": {},
   "source": [
    "Для наглядности получим какое-нибудь графическое представление данных."
   ]
  },
  {
   "cell_type": "code",
   "execution_count": 11,
   "id": "e267295c-71fb-4dda-bd6e-9d5874d4c775",
   "metadata": {},
   "outputs": [],
   "source": [
    "%matplotlib inline\n",
    "import matplotlib.pyplot as plt\n",
    "import seaborn; seaborn.set() # задает стиль графика"
   ]
  },
  {
   "cell_type": "code",
   "execution_count": 12,
   "id": "6d89ea48-220d-48ef-bd1f-7a47e18fdc96",
   "metadata": {},
   "outputs": [
    {
     "data": {
      "text/plain": [
       "Text(0, 0.5, 'number')"
      ]
     },
     "execution_count": 12,
     "metadata": {},
     "output_type": "execute_result"
    },
    {
     "data": {
      "image/png": "[encoded data removed]",
      "text/plain": [
       "<Figure size 640x480 with 1 Axes>"
      ]
     },
     "metadata": {},
     "output_type": "display_data"
    }
   ],
   "source": [
    "plt.hist(heights)\n",
    "plt.title('Height Distribution of US Presidents')\n",
    "plt.xlabel('height (cm)')\n",
    "plt.ylabel('number')"
   ]
  },
  {
   "cell_type": "markdown",
   "id": "9a2897f4-7b6b-4906-9f21-8ecf7aa39d9a",
   "metadata": {},
   "source": [
    "### Операции над массивами. Трансляции (broadcasting)"
   ]
  },
  {
   "cell_type": "markdown",
   "id": "3e8d63e9-b172-4868-bcca-9adbbac33fce",
   "metadata": {},
   "source": [
    "Транслирование - набор правил по применению бинарных универсальных функций (сложение, вычитание, умножение и т.д.) к массивам различного размера"
   ]
  },
  {
   "cell_type": "code",
   "execution_count": 4,
   "id": "16b36807-4420-4c72-9bfc-2f8eca34c358",
   "metadata": {},
   "outputs": [
    {
     "data": {
      "text/plain": [
       "array([5, 6, 7])"
      ]
     },
     "execution_count": 4,
     "metadata": {},
     "output_type": "execute_result"
    }
   ],
   "source": [
    "a = np.array([0, 1 ,2])\n",
    "b = np.array([5, 5, 5])\n",
    "a + b"
   ]
  },
  {
   "cell_type": "code",
   "execution_count": 5,
   "id": "a4b2797e-47c2-49f0-b29c-081ee42688b2",
   "metadata": {},
   "outputs": [
    {
     "data": {
      "text/plain": [
       "array([5, 6, 7])"
      ]
     },
     "execution_count": 5,
     "metadata": {},
     "output_type": "execute_result"
    }
   ],
   "source": [
    "# Пример операций для массивов разных размеров: прибавление сколярного значения\n",
    "a + 5"
   ]
  },
  {
   "cell_type": "markdown",
   "id": "64142c45-b3c2-48ec-bb21-e8b07ac0f354",
   "metadata": {},
   "source": [
    "На самом деле скаляр пять представляется как массив [5, 5, 5] и прибавляется к a. \n",
    "**ВАЖНО!!! ДОПОЛНИТЕЛЬНАЯ ПАМЯТЬ ДЛЯ \"РАСТЯГИВАНИЯ\" ФАКТИЧЕСКИ НЕ ВЫДЕЛЯЕТСЯ В ХОДЕ ОПЕРАЦИИ**"
   ]
  },
  {
   "cell_type": "code",
   "execution_count": 12,
   "id": "4795a3e6-94aa-41c0-8179-533074d2336f",
   "metadata": {},
   "outputs": [
    {
     "data": {
      "text/plain": [
       "array([[1., 1., 1.],\n",
       "       [1., 1., 1.],\n",
       "       [1., 1., 1.]])"
      ]
     },
     "execution_count": 12,
     "metadata": {},
     "output_type": "execute_result"
    }
   ],
   "source": [
    "M = np.ones((3, 3))\n",
    "M"
   ]
  },
  {
   "cell_type": "code",
   "execution_count": 13,
   "id": "21ce45ff-b224-44e8-a9cc-7e414ab34350",
   "metadata": {},
   "outputs": [
    {
     "data": {
      "text/plain": [
       "array([[1., 2., 3.],\n",
       "       [1., 2., 3.],\n",
       "       [1., 2., 3.]])"
      ]
     },
     "execution_count": 13,
     "metadata": {},
     "output_type": "execute_result"
    }
   ],
   "source": [
    "M + a"
   ]
  },
  {
   "cell_type": "markdown",
   "id": "f05f045d-b6f4-4442-a8d7-36f548c12f19",
   "metadata": {},
   "source": [
    "Более сложный вопрос - транслирование обоих массивов:"
   ]
  },
  {
   "cell_type": "code",
   "execution_count": 15,
   "id": "6ad23be0-7792-4e71-800c-6df5aad397f7",
   "metadata": {},
   "outputs": [],
   "source": [
    "a = np.arange(3)\n",
    "b = np.arange(3)[:, np.newaxis]"
   ]
  },
  {
   "cell_type": "code",
   "execution_count": 16,
   "id": "4162937d-125a-448c-a413-e296b56dbca5",
   "metadata": {},
   "outputs": [
    {
     "name": "stdout",
     "output_type": "stream",
     "text": [
      "[0 1 2]\n",
      "[[0]\n",
      " [1]\n",
      " [2]]\n"
     ]
    }
   ],
   "source": [
    "print(a)\n",
    "print(b)"
   ]
  },
  {
   "cell_type": "code",
   "execution_count": 17,
   "id": "faa248df-8b00-4418-a516-e8c0dec03fbf",
   "metadata": {},
   "outputs": [
    {
     "data": {
      "text/plain": [
       "array([[0, 1, 2],\n",
       "       [1, 2, 3],\n",
       "       [2, 3, 4]])"
      ]
     },
     "execution_count": 17,
     "metadata": {},
     "output_type": "execute_result"
    }
   ],
   "source": [
    "a + b"
   ]
  },
  {
   "cell_type": "markdown",
   "id": "1f79d6b5-3ef5-4f2a-aa75-b0a619df558b",
   "metadata": {},
   "source": [
    "Здесь мы тоже \"растягиваем\" (транслируем) массивы, чтобы привести их к общей форме\n",
    "Был [0, 1, 2] --> [[0, 1, 2],\n",
    "                    [0, 1, 2],\n",
    "                    [0, 1, 2]]\n",
    "Тоже самое со вторым"
   ]
  },
  {
   "cell_type": "markdown",
   "id": "a10b4c1c-de73-41d3-a383-b5d3d70a3d23",
   "metadata": {},
   "source": [
    "#### Правила транслирования"
   ]
  },
  {
   "cell_type": "markdown",
   "id": "c8a77a4f-d5bc-4a65-b7a7-e746933584e3",
   "metadata": {},
   "source": [
    "1. Если размерность двух массивов отличается, форма массива с меньшей размерностью *дополняется* единицами с ведущей (левой) стороны.\n",
    "2. Если форма двух массивов не совпадает в каком-то измерении, массив с формой, равной 1 в данном измерении, растягивается вплоть до соответствия форме другого массива.\n",
    "3. Если в каком-то измерении размеры массивов различаются и ни один не равен 1 - генерируется ошибка."
   ]
  },
  {
   "cell_type": "markdown",
   "id": "e77bf1dc-c246-48ff-87e5-680efe309860",
   "metadata": {},
   "source": [
    "**Пример:**"
   ]
  },
  {
   "cell_type": "code",
   "execution_count": 18,
   "id": "4c6847ec-acec-4814-985a-8255f341e3cc",
   "metadata": {},
   "outputs": [],
   "source": [
    "M = np.ones((2, 3))\n",
    "a = np.arange(3)"
   ]
  },
  {
   "cell_type": "code",
   "execution_count": 20,
   "id": "86e91496-f1b4-46cf-bd81-074d8c302cd3",
   "metadata": {},
   "outputs": [
    {
     "data": {
      "text/plain": [
       "((2, 3), (3,))"
      ]
     },
     "execution_count": 20,
     "metadata": {},
     "output_type": "execute_result"
    }
   ],
   "source": [
    "# Формы массивов следующие\n",
    "M.shape, a.shape"
   ]
  },
  {
   "cell_type": "code",
   "execution_count": 21,
   "id": "adeb1c03-7798-4133-b23b-27e8c779d537",
   "metadata": {},
   "outputs": [],
   "source": [
    "# По правилу 1, поскольку размерность массива а меньше, мы дополняем его измерениями слева"
   ]
  },
  {
   "cell_type": "markdown",
   "id": "61c0cc4e-4cf1-488c-a2c4-27e675e0cd42",
   "metadata": {},
   "source": [
    "M.shape -> (2, 3) \n",
    "a.shape -> (1, 3)"
   ]
  },
  {
   "cell_type": "code",
   "execution_count": 22,
   "id": "822cbcee-aefd-434c-85dc-6a292af0cbba",
   "metadata": {},
   "outputs": [],
   "source": [
    "# По правилу 2 мы видим, что первое измерение массивов различается, так что мы растягиваем его вплоть до совпадения:"
   ]
  },
  {
   "cell_type": "markdown",
   "id": "9b572c89-bc31-497d-b8a1-6813325b2e51",
   "metadata": {},
   "source": [
    "M.shape -> (2, 3)\n",
    "a.shape -> (2, 3)"
   ]
  },
  {
   "cell_type": "code",
   "execution_count": 23,
   "id": "404df670-0852-4ef1-af99-1dca28fc7d5c",
   "metadata": {},
   "outputs": [
    {
     "data": {
      "text/plain": [
       "array([[1., 2., 3.],\n",
       "       [1., 2., 3.]])"
      ]
     },
     "execution_count": 23,
     "metadata": {},
     "output_type": "execute_result"
    }
   ],
   "source": [
    "# Формы совпадают, и итоговая форма будет (2, 3)\n",
    "M + a"
   ]
  },
  {
   "cell_type": "markdown",
   "id": "95152a30-8d54-46fb-a91a-52b7e9e3180c",
   "metadata": {},
   "source": [
    "Правила транслирования доступны не только оператору **+**, но и другим универсальным бинарным функциям."
   ]
  },
  {
   "cell_type": "markdown",
   "id": "9f99f96c-ff33-413c-9306-4755886b3339",
   "metadata": {},
   "source": [
    "### Транслирование на практике"
   ]
  },
  {
   "cell_type": "markdown",
   "id": "b3d4d8ca-7f77-4852-ae7b-0e93c56e1122",
   "metadata": {},
   "source": [
    "#### Центрирование массива"
   ]
  },
  {
   "cell_type": "markdown",
   "id": "6b2f6420-dc2f-4aa3-b281-34a2f76ebb70",
   "metadata": {},
   "source": [
    "Пускай есть массив из десяти наблюдений, каждое состоит из 3 значений.\n",
    "Используя стандартные соглашения сохраним жти данные в массиве 10x3."
   ]
  },
  {
   "cell_type": "code",
   "execution_count": 29,
   "id": "ab0f4d88-3514-4b89-bf70-e9a5b6c1b8c2",
   "metadata": {},
   "outputs": [
    {
     "data": {
      "text/plain": [
       "array([[0.83838706, 0.67537271, 0.32049401],\n",
       "       [0.74624507, 0.95882555, 0.12206038],\n",
       "       [0.23155155, 0.99818483, 0.68843176],\n",
       "       [0.01888162, 0.27259116, 0.20729662],\n",
       "       [0.7072187 , 0.93468779, 0.83023784],\n",
       "       [0.59362838, 0.47598904, 0.74062925],\n",
       "       [0.28697043, 0.95115162, 0.3198856 ],\n",
       "       [0.28872955, 0.97926078, 0.59433586],\n",
       "       [0.85653552, 0.56722033, 0.09784926],\n",
       "       [0.58669545, 0.4754058 , 0.20640771]])"
      ]
     },
     "execution_count": 29,
     "metadata": {},
     "output_type": "execute_result"
    }
   ],
   "source": [
    "X = np.random.random((10, 3))\n",
    "X"
   ]
  },
  {
   "cell_type": "markdown",
   "id": "544a4dea-08e2-48b3-be92-f1806fb6d547",
   "metadata": {},
   "source": [
    "Вычислить среднее значение каждого признака можно применив функцию агрегирования **mean** по первому измерению."
   ]
  },
  {
   "cell_type": "code",
   "execution_count": 30,
   "id": "c49d5762-cc62-4a85-9652-a9995ab34f06",
   "metadata": {},
   "outputs": [
    {
     "data": {
      "text/plain": [
       "array([0.51548433, 0.72886896, 0.41276283])"
      ]
     },
     "execution_count": 30,
     "metadata": {},
     "output_type": "execute_result"
    }
   ],
   "source": [
    "Xmean = X.mean(0)\n",
    "Xmean"
   ]
  },
  {
   "cell_type": "markdown",
   "id": "b093a52e-06e3-47bd-9651-a6f7e602daa7",
   "metadata": {},
   "source": [
    "Теперь можно центрировать массив X путем вычитания среднего значения (это операция транслирования)."
   ]
  },
  {
   "cell_type": "code",
   "execution_count": 32,
   "id": "62b3e516-8bd1-4ecb-8a03-4e2b8f81abdd",
   "metadata": {},
   "outputs": [],
   "source": [
    "X_centered =  X - Xmean"
   ]
  },
  {
   "cell_type": "markdown",
   "id": "b2cf5761-21f9-44ec-b155-6fa0522d8030",
   "metadata": {},
   "source": [
    "Чтобы проверить - надо чтобы среднее значение центрированного значения было близко к 0."
   ]
  },
  {
   "cell_type": "code",
   "execution_count": 34,
   "id": "a0007686-86e7-4e8b-89b9-1cad949c3a90",
   "metadata": {},
   "outputs": [
    {
     "data": {
      "text/plain": [
       "array([ 5.55111512e-17, -2.22044605e-17,  6.66133815e-17])"
      ]
     },
     "execution_count": 34,
     "metadata": {},
     "output_type": "execute_result"
    }
   ],
   "source": [
    "X_centered.mean(0)"
   ]
  },
  {
   "cell_type": "markdown",
   "id": "1161f1ae-7cc0-4009-980c-a637e2a107a0",
   "metadata": {},
   "source": [
    "#### Построение графика двумерной функции"
   ]
  },
  {
   "cell_type": "markdown",
   "id": "cbc2ae4d-4a22-4a5b-9040-8572001490a3",
   "metadata": {},
   "source": [
    "Одна из частых сфер применения транслирования - визуализация изображений на основе двумерных функций."
   ]
  },
  {
   "cell_type": "markdown",
   "id": "d6ac83d3-9a2b-4f8c-a57b-c54ccb0f06e1",
   "metadata": {},
   "source": [
    "Если требуется описать функцию z = f(x, y), можно восползоваться транслированием для вычисления значений этой функции по координатной сетке."
   ]
  },
  {
   "cell_type": "code",
   "execution_count": 49,
   "id": "178724b5-cfc1-420a-b77b-363f929794b2",
   "metadata": {},
   "outputs": [],
   "source": [
    "# Задаем для x и y 50 шагов от 0 до 5\n",
    "x = np.linspace(0, 5, 50)\n",
    "y = np.linspace(0, 5, 50)[:, np.newaxis]"
   ]
  },
  {
   "cell_type": "code",
   "execution_count": 50,
   "id": "10cc6b99-366b-437c-b474-f61c93471aa3",
   "metadata": {},
   "outputs": [
    {
     "data": {
      "text/plain": [
       "array([0.        , 0.10204082, 0.20408163, 0.30612245, 0.40816327,\n",
       "       0.51020408, 0.6122449 , 0.71428571, 0.81632653, 0.91836735,\n",
       "       1.02040816, 1.12244898, 1.2244898 , 1.32653061, 1.42857143,\n",
       "       1.53061224, 1.63265306, 1.73469388, 1.83673469, 1.93877551,\n",
       "       2.04081633, 2.14285714, 2.24489796, 2.34693878, 2.44897959,\n",
       "       2.55102041, 2.65306122, 2.75510204, 2.85714286, 2.95918367,\n",
       "       3.06122449, 3.16326531, 3.26530612, 3.36734694, 3.46938776,\n",
       "       3.57142857, 3.67346939, 3.7755102 , 3.87755102, 3.97959184,\n",
       "       4.08163265, 4.18367347, 4.28571429, 4.3877551 , 4.48979592,\n",
       "       4.59183673, 4.69387755, 4.79591837, 4.89795918, 5.        ])"
      ]
     },
     "execution_count": 50,
     "metadata": {},
     "output_type": "execute_result"
    }
   ],
   "source": [
    "x"
   ]
  },
  {
   "cell_type": "code",
   "execution_count": 51,
   "id": "443515f6-832a-439b-95e0-7ccac861df60",
   "metadata": {},
   "outputs": [],
   "source": [
    "z = np.sin(x) ** 10 + np.cos(10 + y * x) * np.cos(x)"
   ]
  },
  {
   "cell_type": "code",
   "execution_count": 52,
   "id": "7daf5bae-0a26-4ee2-8824-5853b8e79420",
   "metadata": {},
   "outputs": [],
   "source": [
    "%matplotlib inline\n",
    "import matplotlib.pyplot as plt"
   ]
  },
  {
   "cell_type": "code",
   "execution_count": 55,
   "id": "ed629d59-747a-4f0b-94c7-a0aebcaffbe1",
   "metadata": {},
   "outputs": [
    {
     "data": {
      "image/png": "[encoded data removed]",
      "text/plain": [
       "<Figure size 640x480 with 2 Axes>"
      ]
     },
     "metadata": {},
     "output_type": "display_data"
    }
   ],
   "source": [
    "plt.imshow(z, origin='lower', extent=[0, 5, 0, 5], cmap='viridis')\n",
    "plt.colorbar(); # Для напоминания - \";\" - подавление вывода"
   ]
  },
  {
   "cell_type": "markdown",
   "id": "36111cd7-4ca8-4970-bfa2-1f9fa000b8ac",
   "metadata": {},
   "source": [
    "### Сравнения, маски и булева логика"
   ]
  },
  {
   "cell_type": "markdown",
   "id": "d43f8d44-4d3d-40c3-bba5-6940384bf1b9",
   "metadata": {},
   "source": [
    "#### Пример: подсчет количества дождливых дней"
   ]
  },
  {
   "cell_type": "code",
   "execution_count": 57,
   "id": "51d3d23c-a128-48dc-a13b-4ccd321807e7",
   "metadata": {},
   "outputs": [],
   "source": [
    "import pandas as pd"
   ]
  },
  {
   "cell_type": "code",
   "execution_count": 59,
   "id": "91ae2306-d50c-4944-ac71-57ff0b72acfa",
   "metadata": {},
   "outputs": [
    {
     "data": {
      "text/plain": [
       "(365,)"
      ]
     },
     "execution_count": 59,
     "metadata": {},
     "output_type": "execute_result"
    }
   ],
   "source": [
    "# Используем Pandas для извлечения количества осадков в дюймах в виде NumPy-массива\n",
    "rainfall = pd.read_csv(\"./DB/Seattle2014.csv\")['PRCP'].values\n",
    "inches = rainfall / 254 # 1/10mm -> inches\n",
    "inches.shape"
   ]
  },
  {
   "cell_type": "code",
   "execution_count": 61,
   "id": "bd359bb7-ca2a-414f-bb01-4af15fbc156e",
   "metadata": {},
   "outputs": [],
   "source": [
    "%matplotlib inline\n",
    "import matplotlib.pyplot as plt\n",
    "import seaborn; seaborn.set() # задаем стиль"
   ]
  },
  {
   "cell_type": "code",
   "execution_count": 63,
   "id": "ee3e2bb5-98a7-4675-be89-9b90a4527820",
   "metadata": {},
   "outputs": [
    {
     "data": {
      "image/png": "[encoded data removed]",
      "text/plain": [
       "<Figure size 640x480 with 1 Axes>"
      ]
     },
     "metadata": {},
     "output_type": "display_data"
    }
   ],
   "source": [
    "plt.hist(inches, 40);"
   ]
  },
  {
   "cell_type": "markdown",
   "id": "e5baa76e-4e55-4910-b09c-4880e73bbe9a",
   "metadata": {},
   "source": [
    "### Операторы сравнения как универсальные функции"
   ]
  },
  {
   "cell_type": "code",
   "execution_count": 64,
   "id": "1b51166e-68e2-47e4-969e-b8e1c62e37a2",
   "metadata": {},
   "outputs": [
    {
     "data": {
      "text/plain": [
       "array([1, 2, 3, 4, 5])"
      ]
     },
     "execution_count": 64,
     "metadata": {},
     "output_type": "execute_result"
    }
   ],
   "source": [
    "x = np.array([1, 2, 3, 4, 5])\n",
    "x"
   ]
  },
  {
   "cell_type": "code",
   "execution_count": 65,
   "id": "ab399a3a-fb3b-4b59-9229-336d482e6cb1",
   "metadata": {},
   "outputs": [
    {
     "data": {
      "text/plain": [
       "array([ True,  True, False, False, False])"
      ]
     },
     "execution_count": 65,
     "metadata": {},
     "output_type": "execute_result"
    }
   ],
   "source": [
    "x < 3"
   ]
  },
  {
   "cell_type": "code",
   "execution_count": 66,
   "id": "3eea3e24-fa49-44fd-bd76-1cffee60bb64",
   "metadata": {},
   "outputs": [
    {
     "data": {
      "text/plain": [
       "array([False, False, False,  True,  True])"
      ]
     },
     "execution_count": 66,
     "metadata": {},
     "output_type": "execute_result"
    }
   ],
   "source": [
    "x > 3"
   ]
  },
  {
   "cell_type": "code",
   "execution_count": 67,
   "id": "b495b50e-93e0-475e-9b52-476b31487031",
   "metadata": {},
   "outputs": [
    {
     "data": {
      "text/plain": [
       "array([False,  True, False, False, False])"
      ]
     },
     "execution_count": 67,
     "metadata": {},
     "output_type": "execute_result"
    }
   ],
   "source": [
    "# Можно использовать так же составные выражения\n",
    "(2 * x) == (x ** 2)"
   ]
  },
  {
   "cell_type": "markdown",
   "id": "3fa6dbe2-d2d3-4bf7-a4b5-934379bafb93",
   "metadata": {},
   "source": [
    "На самом деле операторы сравнения тоже реализованы как универсальные функции."
   ]
  },
  {
   "cell_type": "markdown",
   "id": "5d1c2283-bb23-47b4-a4b8-7f39b2785222",
   "metadata": {},
   "source": [
    "то есть запись *x < 3* можно заменить на функцию *np.less(x, 3)*."
   ]
  },
  {
   "cell_type": "code",
   "execution_count": 71,
   "id": "c1ad1938-a262-499d-a7bb-8147b9cfc208",
   "metadata": {},
   "outputs": [
    {
     "data": {
      "text/plain": [
       "array([[8, 7, 5],\n",
       "       [7, 0, 1],\n",
       "       [1, 5, 6]])"
      ]
     },
     "execution_count": 71,
     "metadata": {},
     "output_type": "execute_result"
    }
   ],
   "source": [
    "# Это так же работает с многомерными массивами\n",
    "x = np.random.randint(0, 10, (3, 3))\n",
    "x"
   ]
  },
  {
   "cell_type": "code",
   "execution_count": 72,
   "id": "0813984f-2917-401e-856c-4ed5fa46565d",
   "metadata": {},
   "outputs": [
    {
     "data": {
      "text/plain": [
       "array([[False, False,  True],\n",
       "       [False,  True,  True],\n",
       "       [ True,  True, False]])"
      ]
     },
     "execution_count": 72,
     "metadata": {},
     "output_type": "execute_result"
    }
   ],
   "source": [
    "x < 6"
   ]
  },
  {
   "cell_type": "markdown",
   "id": "d0d8c370-96da-4acf-89a3-c6efab02e969",
   "metadata": {},
   "source": [
    "### Работа с булевыми массивами"
   ]
  },
  {
   "cell_type": "markdown",
   "id": "9d75a4e1-c671-4358-9c1f-b2c6a32317d1",
   "metadata": {},
   "source": [
    "#### Подсчет количества элементов"
   ]
  },
  {
   "cell_type": "code",
   "execution_count": 73,
   "id": "517ca347-6907-41d4-8734-54e10c9e44ec",
   "metadata": {},
   "outputs": [
    {
     "data": {
      "text/plain": [
       "5"
      ]
     },
     "execution_count": 73,
     "metadata": {},
     "output_type": "execute_result"
    }
   ],
   "source": [
    "# Сколько значений в массиве меньше 6?\n",
    "np.count_nonzero(x < 6)"
   ]
  },
  {
   "cell_type": "code",
   "execution_count": 74,
   "id": "7d8a80a7-16df-4e6f-9bfc-9c1c3e38f1cc",
   "metadata": {},
   "outputs": [
    {
     "data": {
      "text/plain": [
       "5"
      ]
     },
     "execution_count": 74,
     "metadata": {},
     "output_type": "execute_result"
    }
   ],
   "source": [
    "# Можно воспользоваться тем же самым, но через np.sum. False = 0. True = 1\n",
    "np.sum(x < 6)"
   ]
  },
  {
   "cell_type": "markdown",
   "id": "2c9a9e39-66ef-4032-b53e-1e8c6df42bbf",
   "metadata": {},
   "source": [
    "Преимущества np.sum в том, что в мы можем подсчитать отдельно в каждой строке."
   ]
  },
  {
   "cell_type": "code",
   "execution_count": 77,
   "id": "90a84176-1732-45f3-afcc-b0c15506db30",
   "metadata": {},
   "outputs": [
    {
     "data": {
      "text/plain": [
       "array([1, 2, 2])"
      ]
     },
     "execution_count": 77,
     "metadata": {},
     "output_type": "execute_result"
    }
   ],
   "source": [
    "np.sum(x < 6, axis=1)"
   ]
  },
  {
   "cell_type": "code",
   "execution_count": 79,
   "id": "75b10ca7-005a-4df6-aaa1-58711eedb64c",
   "metadata": {},
   "outputs": [
    {
     "data": {
      "text/plain": [
       "False"
      ]
     },
     "execution_count": 79,
     "metadata": {},
     "output_type": "execute_result"
    }
   ],
   "source": [
    "# Имеются ли в массиве какие-либо значения >8?\n",
    "np.any(x > 8)"
   ]
  },
  {
   "cell_type": "code",
   "execution_count": 80,
   "id": "bcac16a6-8252-4708-92b0-85f5fcf34eb2",
   "metadata": {},
   "outputs": [
    {
     "data": {
      "text/plain": [
       "True"
      ]
     },
     "execution_count": 80,
     "metadata": {},
     "output_type": "execute_result"
    }
   ],
   "source": [
    "# Все ли значения меньше 10?\n",
    "np.all(x < 10)"
   ]
  },
  {
   "cell_type": "markdown",
   "id": "7a9f5908-47a0-45ca-a35e-3d763edd4d42",
   "metadata": {},
   "source": [
    "#### Булевы операторы"
   ]
  },
  {
   "cell_type": "markdown",
   "id": "eac24afd-6bc2-4e58-a94b-e3dfed44e464",
   "metadata": {},
   "source": [
    "Информация о всех днях с толщиной слоя осадков менее четырех дюймов и более одного дюйма?"
   ]
  },
  {
   "cell_type": "code",
   "execution_count": 82,
   "id": "27e4e38a-26a8-4a4c-a972-0e30d43fdc85",
   "metadata": {},
   "outputs": [
    {
     "data": {
      "text/plain": [
       "65"
      ]
     },
     "execution_count": 82,
     "metadata": {},
     "output_type": "execute_result"
    }
   ],
   "source": [
    "np.sum((inches < 0.5) & (inches > 0.1))"
   ]
  },
  {
   "cell_type": "code",
   "execution_count": 84,
   "id": "51426d44-0437-4b1a-a189-24a9b118bbdd",
   "metadata": {},
   "outputs": [
    {
     "name": "stdout",
     "output_type": "stream",
     "text": [
      "Number days without rain: 215\n",
      "Number dats with rain: 150\n"
     ]
    }
   ],
   "source": [
    "print('Number days without rain:', np.sum(inches == 0))\n",
    "print('Number dats with rain:', np.sum(inches != 0))"
   ]
  },
  {
   "cell_type": "markdown",
   "id": "d3581407-b6b4-46e8-a4a6-a8ed551ec20e",
   "metadata": {},
   "source": [
    "### Булевы массивы как маски"
   ]
  },
  {
   "cell_type": "code",
   "execution_count": 85,
   "id": "03a021d0-ba12-4807-a0fc-e6ff5da9a266",
   "metadata": {},
   "outputs": [
    {
     "data": {
      "text/plain": [
       "array([[8, 7, 5],\n",
       "       [7, 0, 1],\n",
       "       [1, 5, 6]])"
      ]
     },
     "execution_count": 85,
     "metadata": {},
     "output_type": "execute_result"
    }
   ],
   "source": [
    "x"
   ]
  },
  {
   "cell_type": "code",
   "execution_count": 86,
   "id": "f4d98a63-7a46-466e-ae4a-2bbccb9d05a8",
   "metadata": {},
   "outputs": [
    {
     "data": {
      "text/plain": [
       "array([[False, False, False],\n",
       "       [False,  True,  True],\n",
       "       [ True, False, False]])"
      ]
     },
     "execution_count": 86,
     "metadata": {},
     "output_type": "execute_result"
    }
   ],
   "source": [
    "x < 5"
   ]
  },
  {
   "cell_type": "markdown",
   "id": "b42b5ec3-46ca-4b0f-8436-1e2dc159b644",
   "metadata": {},
   "source": [
    "Чтобы выбрать нужные значения из массива, достаточно просто проиндексировать исходный массив x по этому булеву массиву."
   ]
  },
  {
   "cell_type": "code",
   "execution_count": 87,
   "id": "262ae86d-c2ab-4f49-9c84-d38ada86fd32",
   "metadata": {},
   "outputs": [
    {
     "data": {
      "text/plain": [
       "array([0, 1, 1])"
      ]
     },
     "execution_count": 87,
     "metadata": {},
     "output_type": "execute_result"
    }
   ],
   "source": [
    "x[x < 5]"
   ]
  },
  {
   "cell_type": "code",
   "execution_count": 91,
   "id": "955c68df-4520-42fd-a3ee-5a84da6b349c",
   "metadata": {},
   "outputs": [],
   "source": [
    "# Создаем маску для всех дождливых дней\n",
    "rainy = (inches > 0)\n",
    "# Создаем маску для всех летних дней (21 июня - 172 день)\n",
    "summer = (np.arange(365) - 172 < 90) & (np.arange(365) - 172 > 0)"
   ]
  },
  {
   "cell_type": "code",
   "execution_count": 93,
   "id": "b22ae6d5-a44a-4355-9a9f-977ad01a6e7b",
   "metadata": {},
   "outputs": [
    {
     "name": "stdout",
     "output_type": "stream",
     "text": [
      "Median precip on rainy days in 2014 (inches): 0.19488188976377951\n",
      "Median precip on summer days in 2014 (inches): 0.0\n"
     ]
    }
   ],
   "source": [
    "print('Median precip on rainy days in 2014 (inches):', np.median(inches[rainy]))\n",
    "print('Median precip on summer days in 2014 (inches):', np.median(inches[summer]))"
   ]
  },
  {
   "cell_type": "code",
   "execution_count": null,
   "id": "e0c1f2f1-cc4c-452e-9bcd-3025c98bac16",
   "metadata": {},
   "outputs": [],
   "source": []
  }
 ],
 "metadata": {
  "kernelspec": {
   "display_name": "Python 3 (ipykernel)",
   "language": "python",
   "name": "python3"
  },
  "language_info": {
   "codemirror_mode": {
    "name": "ipython",
    "version": 3
   },
   "file_extension": ".py",
   "mimetype": "text/x-python",
   "name": "python",
   "nbconvert_exporter": "python",
   "pygments_lexer": "ipython3",
   "version": "3.9.5"
  }
 },
 "nbformat": 4,
 "nbformat_minor": 5
}
