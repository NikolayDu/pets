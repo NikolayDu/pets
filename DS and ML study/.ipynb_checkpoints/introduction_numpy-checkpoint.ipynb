{
 "cells": [
  {
   "cell_type": "markdown",
   "id": "87a9e55a-9c43-4262-b698-eb4c1fa49783",
   "metadata": {},
   "source": [
    "# Введение в библиотеку NumPy"
   ]
  },
  {
   "cell_type": "code",
   "execution_count": 1,
   "id": "f5b9fe66-d4f0-45a0-8477-ba924f6b5c00",
   "metadata": {},
   "outputs": [],
   "source": [
    "import numpy as np"
   ]
  },
  {
   "cell_type": "code",
   "execution_count": 2,
   "id": "f8c16ac9-04b5-4c9c-bfd3-dab33adefbc5",
   "metadata": {},
   "outputs": [
    {
     "name": "stdout",
     "output_type": "stream",
     "text": [
      "1.26.4\n"
     ]
    }
   ],
   "source": [
    "print(np.__version__)"
   ]
  },
  {
   "cell_type": "markdown",
   "id": "9f5ea6f4-12b8-4d21-9e0e-27866b2de9a7",
   "metadata": {},
   "source": [
    "## Создание массивов из списков языка Python"
   ]
  },
  {
   "cell_type": "code",
   "execution_count": 6,
   "id": "42a55279-ffd7-4799-ab96-c6eee16808cc",
   "metadata": {},
   "outputs": [
    {
     "data": {
      "text/plain": [
       "array([1, 4, 2, 5, 3])"
      ]
     },
     "execution_count": 6,
     "metadata": {},
     "output_type": "execute_result"
    }
   ],
   "source": [
    "np.array([1, 4, 2, 5, 3]) # Массив целочисленных значений"
   ]
  },
  {
   "cell_type": "code",
   "execution_count": 8,
   "id": "8c055881-5a37-4ae2-87c6-e417838b4fe2",
   "metadata": {},
   "outputs": [
    {
     "data": {
      "text/plain": [
       "array([3.14, 4.  , 2.  , 3.  ])"
      ]
     },
     "execution_count": 8,
     "metadata": {},
     "output_type": "execute_result"
    }
   ],
   "source": [
    "np.array([3.14, 4, 2, 3]) # Массив ограничивается только одним типом. Если добавить float, то он исправит все значения на float"
   ]
  },
  {
   "cell_type": "code",
   "execution_count": 9,
   "id": "c7274807-a442-4190-b2e4-b72a286432ce",
   "metadata": {},
   "outputs": [
    {
     "data": {
      "text/plain": [
       "array([1., 2., 3., 4.], dtype=float32)"
      ]
     },
     "execution_count": 9,
     "metadata": {},
     "output_type": "execute_result"
    }
   ],
   "source": [
    "np.array([1, 2, 3, 4], dtype='float32') # если нужно явно указать тип данных для массива"
   ]
  },
  {
   "cell_type": "code",
   "execution_count": 10,
   "id": "57b3b90c-62e9-42b1-8000-bff77fc27315",
   "metadata": {},
   "outputs": [
    {
     "data": {
      "text/plain": [
       "array([[2, 3, 4],\n",
       "       [4, 5, 6],\n",
       "       [6, 7, 8]])"
      ]
     },
     "execution_count": 10,
     "metadata": {},
     "output_type": "execute_result"
    }
   ],
   "source": [
    "# Вложенные списки прообразуются в многомерный массив\n",
    "np.array([range(i, i + 3) for i in [2, 4, 6]])"
   ]
  },
  {
   "cell_type": "markdown",
   "id": "9e2199e8-0c31-4e48-8c89-4fb97f649531",
   "metadata": {},
   "source": [
    "## Создание массивов с нуля"
   ]
  },
  {
   "cell_type": "code",
   "execution_count": 19,
   "id": "6b280924-bc23-4771-9de7-83bcdfed1dec",
   "metadata": {},
   "outputs": [
    {
     "data": {
      "text/plain": [
       "array([0, 0, 0, 0, 0, 0, 0, 0, 0, 0])"
      ]
     },
     "execution_count": 19,
     "metadata": {},
     "output_type": "execute_result"
    }
   ],
   "source": [
    "# Создать массив целых чисел длины 10, заполненных нулями\n",
    "np.zeros(10, dtype=int)"
   ]
  },
  {
   "cell_type": "code",
   "execution_count": 23,
   "id": "a08e94a1-4738-4c72-9040-f8bbab2d6eae",
   "metadata": {},
   "outputs": [
    {
     "data": {
      "text/plain": [
       "array([[1., 1., 1., 1., 1.],\n",
       "       [1., 1., 1., 1., 1.],\n",
       "       [1., 1., 1., 1., 1.]], dtype=float32)"
      ]
     },
     "execution_count": 23,
     "metadata": {},
     "output_type": "execute_result"
    }
   ],
   "source": [
    "# Массив 3x5 с единицами с плавающей точкой\n",
    "np.ones((3, 5), dtype='float32')"
   ]
  },
  {
   "cell_type": "code",
   "execution_count": 24,
   "id": "de4b61e8-8af4-46e1-a8d6-ba7c18eb4792",
   "metadata": {},
   "outputs": [
    {
     "data": {
      "text/plain": [
       "array([[3.14, 3.14, 3.14, 3.14, 3.14],\n",
       "       [3.14, 3.14, 3.14, 3.14, 3.14],\n",
       "       [3.14, 3.14, 3.14, 3.14, 3.14]])"
      ]
     },
     "execution_count": 24,
     "metadata": {},
     "output_type": "execute_result"
    }
   ],
   "source": [
    "# Массив, заполненный конкретным значением\n",
    "np.full((3, 5), 3.14)"
   ]
  },
  {
   "cell_type": "code",
   "execution_count": 28,
   "id": "17fc3491-a374-4ff4-a2ba-8da847580468",
   "metadata": {},
   "outputs": [
    {
     "data": {
      "text/plain": [
       "array([ 0,  2,  4,  6,  8, 10, 12, 14, 16, 18])"
      ]
     },
     "execution_count": 28,
     "metadata": {},
     "output_type": "execute_result"
    }
   ],
   "source": [
    "# Массив, заданной линейной последовательностью с 0 до 20 с шагом в 2\n",
    "np.arange(0, 20, 2)"
   ]
  },
  {
   "cell_type": "code",
   "execution_count": 32,
   "id": "4c1c2683-5b54-465b-bc66-25c8f6136be9",
   "metadata": {},
   "outputs": [
    {
     "data": {
      "text/plain": [
       "array([0.  , 0.25, 0.5 , 0.75, 1.  ])"
      ]
     },
     "execution_count": 32,
     "metadata": {},
     "output_type": "execute_result"
    }
   ],
   "source": [
    "# Массив из пяти значений, равномерно распределенных между 0 и 1\n",
    "np.linspace(0, 1, 5)"
   ]
  },
  {
   "cell_type": "code",
   "execution_count": 34,
   "id": "817e6b7a-5dff-4604-9939-a719453fb399",
   "metadata": {},
   "outputs": [
    {
     "data": {
      "text/plain": [
       "array([[0.90564238, 0.43472441, 0.23978443],\n",
       "       [0.50236998, 0.98417084, 0.5123305 ],\n",
       "       [0.0743034 , 0.16268584, 0.183389  ]])"
      ]
     },
     "execution_count": 34,
     "metadata": {},
     "output_type": "execute_result"
    }
   ],
   "source": [
    "# Массив 3x3 равномерно распределенных СЛУЧАЙНЫХ значений между 0  и 1\n",
    "np.random.random((3, 3))"
   ]
  },
  {
   "cell_type": "code",
   "execution_count": 35,
   "id": "f4536e0c-5375-4754-a99e-ad064ce66722",
   "metadata": {},
   "outputs": [
    {
     "data": {
      "text/plain": [
       "array([[-1.23960236, -0.49453963, -1.73737272],\n",
       "       [ 0.22362313,  0.6696425 , -0.44140676],\n",
       "       [ 2.26212383,  1.47829973, -0.03397979]])"
      ]
     },
     "execution_count": 35,
     "metadata": {},
     "output_type": "execute_result"
    }
   ],
   "source": [
    "# Массив 3x3 нормально распределныых случайных значений с медианой 0 и стандартным отклонение 1\n",
    "\n",
    "# Медиана 0: Медиана — это значение, которое делит распределение на две равные части.\n",
    "# Если медиана равна 0, это означает, что половина значений меньше или равна 0, а другая половина больше или равна 0.\n",
    "\n",
    "# Стандартное отклонение 1: Стандартное отклонение — это мера разброса значений относительно средней.\n",
    "# Если стандартное отклонение равно 1, это указывает на то, что значения распределены относительно среднего значения (в данном случае 0)\n",
    "# с характерным разбросом, который соответствует нормальному распределению.\n",
    "\n",
    "np.random.normal(0, 1, (3, 3)) # Или подругому с явными указаниями:  np.random.normal(loc=0, scale=1, size=(3, 3))"
   ]
  },
  {
   "cell_type": "code",
   "execution_count": 36,
   "id": "b9fe54ba-338a-4f7e-b731-c8c255e5d454",
   "metadata": {},
   "outputs": [
    {
     "data": {
      "text/plain": [
       "array([[6, 6, 2],\n",
       "       [5, 6, 0],\n",
       "       [1, 5, 9]])"
      ]
     },
     "execution_count": 36,
     "metadata": {},
     "output_type": "execute_result"
    }
   ],
   "source": [
    "# Массив 3x3  случайных целых чисел в [0, 10)\n",
    "np.random.randint(0, 10, (3, 3))"
   ]
  },
  {
   "cell_type": "code",
   "execution_count": 37,
   "id": "f2689ea4-3615-426e-ba77-585c065746d7",
   "metadata": {},
   "outputs": [
    {
     "data": {
      "text/plain": [
       "array([[1., 0., 0.],\n",
       "       [0., 1., 0.],\n",
       "       [0., 0., 1.]])"
      ]
     },
     "execution_count": 37,
     "metadata": {},
     "output_type": "execute_result"
    }
   ],
   "source": [
    "# Единичная матрица 3x3\n",
    "np.eye(3)"
   ]
  },
  {
   "cell_type": "code",
   "execution_count": 38,
   "id": "dc42f972-6955-44e8-a364-dd202b62a90c",
   "metadata": {},
   "outputs": [
    {
     "data": {
      "text/plain": [
       "array([1., 1., 1.])"
      ]
     },
     "execution_count": 38,
     "metadata": {},
     "output_type": "execute_result"
    }
   ],
   "source": [
    "# Неинициализированный мастив из трёх целочисленных значений\n",
    "# Значения будут производные, случайно оказавшиеся в соответствующих ячейках памяти\n",
    "np.empty(3)"
   ]
  },
  {
   "cell_type": "markdown",
   "id": "1be293c8-da47-4506-b828-28c12df7270b",
   "metadata": {},
   "source": [
    "## Введение в массивы библиотеки NumPy"
   ]
  },
  {
   "cell_type": "markdown",
   "id": "9eb2eb7a-1086-4744-bdfd-dad9ece443e7",
   "metadata": {},
   "source": [
    "### Атрибуты массивов библиотеки NumPy"
   ]
  },
  {
   "cell_type": "code",
   "execution_count": 39,
   "id": "23c95bfa-3f9e-4782-985c-c18653a0992a",
   "metadata": {},
   "outputs": [],
   "source": [
    "np.random.seed(0) # seed нужен для генерации одних и тех же рандомных значений после каждом выполнении кода"
   ]
  },
  {
   "cell_type": "code",
   "execution_count": 3,
   "id": "6b8193a3-6884-4d68-8528-248701a91b23",
   "metadata": {},
   "outputs": [],
   "source": [
    "x1 = np.random.randint(10, size=6) # одномерный массив\n",
    "x2 = np.random.randint(10, size=(3, 4)) # двумерный массив\n",
    "x3 = np.random.randint(10, size=(3, 4, 5)) # трехмерный массив"
   ]
  },
  {
   "cell_type": "code",
   "execution_count": 4,
   "id": "51021df7-2e6b-4f4a-a29c-fe63cd75b8ac",
   "metadata": {},
   "outputs": [
    {
     "data": {
      "text/plain": [
       "array([[[3, 4, 5, 1, 1],\n",
       "        [7, 7, 0, 0, 4],\n",
       "        [0, 5, 7, 7, 6],\n",
       "        [5, 3, 9, 8, 9]],\n",
       "\n",
       "       [[7, 5, 0, 8, 3],\n",
       "        [1, 4, 2, 4, 2],\n",
       "        [3, 0, 0, 0, 2],\n",
       "        [1, 3, 5, 8, 0]],\n",
       "\n",
       "       [[8, 7, 9, 1, 7],\n",
       "        [8, 2, 6, 0, 0],\n",
       "        [7, 8, 9, 2, 8],\n",
       "        [8, 8, 6, 0, 1]]])"
      ]
     },
     "execution_count": 4,
     "metadata": {},
     "output_type": "execute_result"
    }
   ],
   "source": [
    "x3"
   ]
  },
  {
   "cell_type": "code",
   "execution_count": 42,
   "id": "e0bfbfef-008c-450b-b5fa-09e82b54c588",
   "metadata": {},
   "outputs": [
    {
     "name": "stdout",
     "output_type": "stream",
     "text": [
      "x3 ndim: 3\n",
      "x3 shape: (3, 4, 5)\n",
      "x3 size: 60\n"
     ]
    }
   ],
   "source": [
    "print('x3 ndim:', x3.ndim) # размерность\n",
    "print('x3 shape:', x3.shape) # размер каждого измерения\n",
    "print('x3 size:', x3.size) # общий размер массива (количество элементов)"
   ]
  },
  {
   "cell_type": "code",
   "execution_count": 44,
   "id": "8ab37869-29f4-441d-9cde-766246e9ec82",
   "metadata": {},
   "outputs": [
    {
     "name": "stdout",
     "output_type": "stream",
     "text": [
      "dtype: int32\n"
     ]
    }
   ],
   "source": [
    "print('dtype:', x3.dtype)"
   ]
  },
  {
   "cell_type": "code",
   "execution_count": 46,
   "id": "98b31a02-6996-4803-8043-68d3db6db572",
   "metadata": {},
   "outputs": [
    {
     "name": "stdout",
     "output_type": "stream",
     "text": [
      "itemsize: 4 bytes\n",
      "nbytes: 240 bytes\n"
     ]
    }
   ],
   "source": [
    "print('itemsize:', x3.itemsize, 'bytes') # размер каждого элемента в байтах\n",
    "print('nbytes:', x3.nbytes, 'bytes') # полный размер массива в байтах (.itemsize * .size)"
   ]
  },
  {
   "cell_type": "markdown",
   "id": "d5efa792-7e50-4a38-afe7-565e54994868",
   "metadata": {},
   "source": [
    "### Индексация массива: доступ к отдельным элементам"
   ]
  },
  {
   "cell_type": "code",
   "execution_count": 5,
   "id": "655a0943-baf5-43ff-9ffa-60e3266a4b45",
   "metadata": {},
   "outputs": [
    {
     "data": {
      "text/plain": [
       "array([2, 9, 3, 9, 3, 4])"
      ]
     },
     "execution_count": 5,
     "metadata": {},
     "output_type": "execute_result"
    }
   ],
   "source": [
    "x1"
   ]
  },
  {
   "cell_type": "code",
   "execution_count": 6,
   "id": "ab3942b4-85ad-49f0-ac0f-109334a6757c",
   "metadata": {},
   "outputs": [
    {
     "data": {
      "text/plain": [
       "2"
      ]
     },
     "execution_count": 6,
     "metadata": {},
     "output_type": "execute_result"
    }
   ],
   "source": [
    "x1[0]"
   ]
  },
  {
   "cell_type": "code",
   "execution_count": 7,
   "id": "a88618da-033c-4315-ac05-52c6afb676b2",
   "metadata": {},
   "outputs": [
    {
     "data": {
      "text/plain": [
       "3"
      ]
     },
     "execution_count": 7,
     "metadata": {},
     "output_type": "execute_result"
    }
   ],
   "source": [
    "x1[4]"
   ]
  },
  {
   "cell_type": "code",
   "execution_count": 9,
   "id": "b46ef212-9047-4253-ade2-9671d06da5d4",
   "metadata": {},
   "outputs": [
    {
     "data": {
      "text/plain": [
       "4"
      ]
     },
     "execution_count": 9,
     "metadata": {},
     "output_type": "execute_result"
    }
   ],
   "source": [
    "x1[-1] # индексация с конца"
   ]
  },
  {
   "cell_type": "code",
   "execution_count": 10,
   "id": "72ee2197-91c8-4a2b-b856-0238ef8496be",
   "metadata": {},
   "outputs": [
    {
     "data": {
      "text/plain": [
       "array([[8, 9, 4, 2],\n",
       "       [7, 4, 0, 7],\n",
       "       [4, 3, 0, 1]])"
      ]
     },
     "execution_count": 10,
     "metadata": {},
     "output_type": "execute_result"
    }
   ],
   "source": [
    "x2"
   ]
  },
  {
   "cell_type": "code",
   "execution_count": 13,
   "id": "e3713ad1-3316-4efd-b9e2-024edfd5c75c",
   "metadata": {},
   "outputs": [
    {
     "data": {
      "text/plain": [
       "0"
      ]
     },
     "execution_count": 13,
     "metadata": {},
     "output_type": "execute_result"
    }
   ],
   "source": [
    "x2[2, 2] # так же можно использовать [2][2]"
   ]
  },
  {
   "cell_type": "code",
   "execution_count": 15,
   "id": "698e2d51-b7a9-4b32-9230-0d081fa9d791",
   "metadata": {},
   "outputs": [
    {
     "data": {
      "text/plain": [
       "array([[  8,   9,   4,   2],\n",
       "       [  7,   4,   0,   7],\n",
       "       [  4,   3, 100,   1]])"
      ]
     },
     "execution_count": 15,
     "metadata": {},
     "output_type": "execute_result"
    }
   ],
   "source": [
    "# Изменить значения\n",
    "x2[2, 2] = 100\n",
    "x2"
   ]
  },
  {
   "cell_type": "markdown",
   "id": "7e07bced-93e3-4fd8-95d8-84e6928d4d25",
   "metadata": {},
   "source": [
    "### Срезы массивов: доступ к подмассивам"
   ]
  },
  {
   "cell_type": "markdown",
   "id": "b0603ba2-5dfd-46d7-ac91-48a2d25a0faf",
   "metadata": {},
   "source": [
    "#### Одномерные подмассивы"
   ]
  },
  {
   "cell_type": "code",
   "execution_count": 17,
   "id": "402983d6-0ed8-4777-a863-5be8ddc8e11d",
   "metadata": {},
   "outputs": [
    {
     "data": {
      "text/plain": [
       "array([0, 1, 2, 3, 4, 5, 6, 7, 8, 9])"
      ]
     },
     "execution_count": 17,
     "metadata": {},
     "output_type": "execute_result"
    }
   ],
   "source": [
    "x = np.arange(10)\n",
    "x"
   ]
  },
  {
   "cell_type": "code",
   "execution_count": 18,
   "id": "c7460e67-6d4f-4d76-b317-da05b7dcaf39",
   "metadata": {},
   "outputs": [
    {
     "data": {
      "text/plain": [
       "array([0, 1, 2, 3, 4])"
      ]
     },
     "execution_count": 18,
     "metadata": {},
     "output_type": "execute_result"
    }
   ],
   "source": [
    "x[:5] # первые 5 элементов"
   ]
  },
  {
   "cell_type": "code",
   "execution_count": 19,
   "id": "a7050095-200f-4101-8cea-f51f50d6f17c",
   "metadata": {},
   "outputs": [
    {
     "data": {
      "text/plain": [
       "array([4, 5, 6])"
      ]
     },
     "execution_count": 19,
     "metadata": {},
     "output_type": "execute_result"
    }
   ],
   "source": [
    "x[4:7]"
   ]
  },
  {
   "cell_type": "code",
   "execution_count": 20,
   "id": "a2a29a09-58b4-4588-a25e-12b9a905db66",
   "metadata": {},
   "outputs": [
    {
     "data": {
      "text/plain": [
       "array([1, 3, 5, 7, 9])"
      ]
     },
     "execution_count": 20,
     "metadata": {},
     "output_type": "execute_result"
    }
   ],
   "source": [
    "x[1::2]"
   ]
  },
  {
   "cell_type": "code",
   "execution_count": 21,
   "id": "3b2b5a1b-c401-4187-96da-8e8de8ca65b3",
   "metadata": {},
   "outputs": [
    {
     "data": {
      "text/plain": [
       "array([5, 3, 1])"
      ]
     },
     "execution_count": 21,
     "metadata": {},
     "output_type": "execute_result"
    }
   ],
   "source": [
    "# Когда применяется обратный индекс - начало и конец меняются местами\n",
    "x[5::-2]"
   ]
  },
  {
   "cell_type": "markdown",
   "id": "f80bb3d4-7121-4222-996c-b56f398455a2",
   "metadata": {},
   "source": [
    "#### Многомерные подмассивы"
   ]
  },
  {
   "cell_type": "code",
   "execution_count": 22,
   "id": "1dc6e001-9b99-4f67-bed6-62c8b0302e02",
   "metadata": {},
   "outputs": [
    {
     "data": {
      "text/plain": [
       "array([[  8,   9,   4,   2],\n",
       "       [  7,   4,   0,   7],\n",
       "       [  4,   3, 100,   1]])"
      ]
     },
     "execution_count": 22,
     "metadata": {},
     "output_type": "execute_result"
    }
   ],
   "source": [
    "x2"
   ]
  },
  {
   "cell_type": "code",
   "execution_count": 23,
   "id": "823bb2ff-a901-4a00-9e9d-a84df64a470a",
   "metadata": {},
   "outputs": [
    {
     "data": {
      "text/plain": [
       "array([[8, 9, 4],\n",
       "       [7, 4, 0]])"
      ]
     },
     "execution_count": 23,
     "metadata": {},
     "output_type": "execute_result"
    }
   ],
   "source": [
    "x2[:2, :3] # две строки, три столбца"
   ]
  },
  {
   "cell_type": "code",
   "execution_count": 24,
   "id": "4c326799-7615-40d4-ada4-217988dd617b",
   "metadata": {},
   "outputs": [
    {
     "data": {
      "text/plain": [
       "array([[  8,   4],\n",
       "       [  7,   0],\n",
       "       [  4, 100]])"
      ]
     },
     "execution_count": 24,
     "metadata": {},
     "output_type": "execute_result"
    }
   ],
   "source": [
    "x2[:3, ::2] # все строки, каждый второй столбец"
   ]
  },
  {
   "cell_type": "code",
   "execution_count": 25,
   "id": "9991832d-4fbb-4513-b125-18628338cf17",
   "metadata": {},
   "outputs": [
    {
     "data": {
      "text/plain": [
       "array([[  1, 100,   3,   4],\n",
       "       [  7,   0,   4,   7],\n",
       "       [  2,   4,   9,   8]])"
      ]
     },
     "execution_count": 25,
     "metadata": {},
     "output_type": "execute_result"
    }
   ],
   "source": [
    "x2[::-1, ::-1] # измерения тоже можно \"переворачивать\""
   ]
  },
  {
   "cell_type": "markdown",
   "id": "d59179e1-e7ec-40c2-a728-e798b976a4cf",
   "metadata": {},
   "source": [
    "#### Доступ к строкам и столбцам массива"
   ]
  },
  {
   "cell_type": "code",
   "execution_count": 30,
   "id": "906654b9-0dde-4350-93a4-5db20fc0eae2",
   "metadata": {},
   "outputs": [
    {
     "data": {
      "text/plain": [
       "array([[  8,   9,   4,   2],\n",
       "       [  7,   4,   0,   7],\n",
       "       [  4,   3, 100,   1]])"
      ]
     },
     "execution_count": 30,
     "metadata": {},
     "output_type": "execute_result"
    }
   ],
   "source": [
    "x2"
   ]
  },
  {
   "cell_type": "code",
   "execution_count": 27,
   "id": "09ee311f-fc23-4eaf-aa10-0e2f6372fc4b",
   "metadata": {},
   "outputs": [
    {
     "name": "stdout",
     "output_type": "stream",
     "text": [
      "[8 7 4]\n"
     ]
    }
   ],
   "source": [
    "print(x2[:, 0]) "
   ]
  },
  {
   "cell_type": "code",
   "execution_count": 28,
   "id": "ea493932-4153-495c-a236-5c7f01f25bb0",
   "metadata": {},
   "outputs": [
    {
     "name": "stdout",
     "output_type": "stream",
     "text": [
      "[7 4 0 7]\n"
     ]
    }
   ],
   "source": [
    "print(x2[1, :]) # вывод второй строки"
   ]
  },
  {
   "cell_type": "code",
   "execution_count": 31,
   "id": "65aef6d1-bd67-4245-9632-c03d9347f094",
   "metadata": {},
   "outputs": [
    {
     "data": {
      "text/plain": [
       "array([8, 9, 4, 2])"
      ]
     },
     "execution_count": 31,
     "metadata": {},
     "output_type": "execute_result"
    }
   ],
   "source": [
    "# НО ЛУЧШЕ ИСПОЛЬЗОВАТЬ ПРОСТО ТАКОЙ ВЫВОД\n",
    "x2[0] # первая строка"
   ]
  },
  {
   "cell_type": "markdown",
   "id": "b5c92828-2f55-452c-88da-f1a60810318e",
   "metadata": {},
   "source": [
    "#### Подмассивы как предназначенные только для чтения представления"
   ]
  },
  {
   "cell_type": "markdown",
   "id": "4c0d0500-a722-4c21-8c62-4f61e86e33c9",
   "metadata": {},
   "source": [
    "Срезы массивов возвращают **представления (views)**, а не **копии (copies)** данных массива.\n",
    "Короче говоря: если мы возьмём срез массива в NumPy, затем изменим исходный массив - то и срез тоже изменится."
   ]
  },
  {
   "cell_type": "code",
   "execution_count": 32,
   "id": "a099560f-6148-4685-8188-e0571b881a37",
   "metadata": {},
   "outputs": [
    {
     "data": {
      "text/plain": [
       "array([[  8,   9,   4,   2],\n",
       "       [  7,   4,   0,   7],\n",
       "       [  4,   3, 100,   1]])"
      ]
     },
     "execution_count": 32,
     "metadata": {},
     "output_type": "execute_result"
    }
   ],
   "source": [
    "x2"
   ]
  },
  {
   "cell_type": "code",
   "execution_count": 34,
   "id": "9b7aac67-c5e3-4637-924b-92a2ff9d0fdd",
   "metadata": {},
   "outputs": [
    {
     "data": {
      "text/plain": [
       "array([[8, 9],\n",
       "       [7, 4]])"
      ]
     },
     "execution_count": 34,
     "metadata": {},
     "output_type": "execute_result"
    }
   ],
   "source": [
    "# Возьмем срез 2x2\n",
    "x2_sub = x2[:2, :2]\n",
    "x2_sub # Если что вывод вначале был [[8, 9][7, 4]]"
   ]
  },
  {
   "cell_type": "code",
   "execution_count": 43,
   "id": "b50ccaba-ca86-4739-876f-4cdadd7b7f86",
   "metadata": {},
   "outputs": [],
   "source": [
    "# Затем изменим x2\n",
    "x2[1, 1] = 101"
   ]
  },
  {
   "cell_type": "code",
   "execution_count": 44,
   "id": "a541f350-f5f1-4f67-881c-06666fd3133c",
   "metadata": {},
   "outputs": [
    {
     "data": {
      "text/plain": [
       "array([[  8, 102],\n",
       "       [  7, 101]])"
      ]
     },
     "execution_count": 44,
     "metadata": {},
     "output_type": "execute_result"
    }
   ],
   "source": [
    "x2_sub # теперь вывод стал: [[8, 9][7, 101]]"
   ]
  },
  {
   "cell_type": "code",
   "execution_count": 45,
   "id": "2e90219b-73f0-4c1d-a6d9-3dc12b70ab20",
   "metadata": {},
   "outputs": [],
   "source": [
    "# Таким же образом, если мы изменим значение в срезе - то основной массив тоже изменится\n",
    "x2_sub[0, 1] = 102 "
   ]
  },
  {
   "cell_type": "code",
   "execution_count": 46,
   "id": "0768b87e-6e95-4f19-a384-69b7c26d537b",
   "metadata": {},
   "outputs": [
    {
     "data": {
      "text/plain": [
       "array([[  8, 102,   4,   2],\n",
       "       [  7, 101,   0,   7],\n",
       "       [  4,   3, 100,   1]])"
      ]
     },
     "execution_count": 46,
     "metadata": {},
     "output_type": "execute_result"
    }
   ],
   "source": [
    "x2"
   ]
  },
  {
   "cell_type": "markdown",
   "id": "e3ff942a-8151-4ae5-b6e8-787cfc95b8fe",
   "metadata": {},
   "source": [
    "#### Создание копий массивов"
   ]
  },
  {
   "cell_type": "code",
   "execution_count": 47,
   "id": "57128af6-341c-4962-b8d3-cc83dbdb9cf1",
   "metadata": {},
   "outputs": [
    {
     "name": "stdout",
     "output_type": "stream",
     "text": [
      "[[  8 102]\n",
      " [  7 101]]\n"
     ]
    }
   ],
   "source": [
    "x2_sub_copy = x2[:2, :2].copy()\n",
    "print(x2_sub_copy)"
   ]
  },
  {
   "cell_type": "code",
   "execution_count": 49,
   "id": "e3636935-c613-41b1-8075-f900f04b9e54",
   "metadata": {},
   "outputs": [
    {
     "name": "stdout",
     "output_type": "stream",
     "text": [
      "[[200 102]\n",
      " [  7 101]]\n"
     ]
    }
   ],
   "source": [
    "# Если мы теперь поменяем этот подмассив, то исходный массив останется неизмененным\n",
    "x2_sub_copy[0, 0] = 200\n",
    "print(x2_sub_copy)"
   ]
  },
  {
   "cell_type": "code",
   "execution_count": 50,
   "id": "fdbd9025-5d65-4ecd-9ccc-909695bcec76",
   "metadata": {},
   "outputs": [
    {
     "data": {
      "text/plain": [
       "array([[  8, 102,   4,   2],\n",
       "       [  7, 101,   0,   7],\n",
       "       [  4,   3, 100,   1]])"
      ]
     },
     "execution_count": 50,
     "metadata": {},
     "output_type": "execute_result"
    }
   ],
   "source": [
    "x2 # не изменился"
   ]
  },
  {
   "cell_type": "markdown",
   "id": "faeea495-7921-4d0d-b926-e9183f47f309",
   "metadata": {},
   "source": [
    "#### Изменения формы массивов .reshape()"
   ]
  },
  {
   "cell_type": "code",
   "execution_count": 51,
   "id": "909233ad-c6db-4294-82be-6c63bad19557",
   "metadata": {},
   "outputs": [
    {
     "data": {
      "text/plain": [
       "array([[1, 2, 3],\n",
       "       [4, 5, 6],\n",
       "       [7, 8, 9]])"
      ]
     },
     "execution_count": 51,
     "metadata": {},
     "output_type": "execute_result"
    }
   ],
   "source": [
    "# Поместить числа от 1 до 9 в матрицу 3x3\n",
    "grid = np.arange(1, 10).reshape((3, 3))\n",
    "grid"
   ]
  },
  {
   "cell_type": "markdown",
   "id": "cce65f44-7008-408e-b4d9-3a725e0d4e6d",
   "metadata": {},
   "source": [
    "РАЗМЕР ИСХОДНОГО МАССИВА ДОЛЖЕН БЫТЬ = ИЗМЕНЕННОМУ РАЗМЕРУ."
   ]
  },
  {
   "cell_type": "code",
   "execution_count": 54,
   "id": "a090d60d-fa58-41bd-96d3-dcebe2affbc7",
   "metadata": {},
   "outputs": [],
   "source": [
    "# Преобразование одномерного массива в матрицу-строку или матрицу столбец (лучше использовать newaxis)\n",
    "x = np.array([1, 2, 3])"
   ]
  },
  {
   "cell_type": "code",
   "execution_count": 56,
   "id": "afd54a71-5c44-46dc-9a13-2990e887203f",
   "metadata": {},
   "outputs": [
    {
     "data": {
      "text/plain": [
       "array([[1],\n",
       "       [2],\n",
       "       [3]])"
      ]
     },
     "execution_count": 56,
     "metadata": {},
     "output_type": "execute_result"
    }
   ],
   "source": [
    "# С помощью reshape(). Матрица столбец\n",
    "x.reshape((3, 1))"
   ]
  },
  {
   "cell_type": "code",
   "execution_count": 57,
   "id": "c47f6510-db8a-4053-9f00-97bbab219abf",
   "metadata": {},
   "outputs": [
    {
     "data": {
      "text/plain": [
       "array([[1, 2, 3]])"
      ]
     },
     "execution_count": 57,
     "metadata": {},
     "output_type": "execute_result"
    }
   ],
   "source": [
    "# С помощью reshape(). Матрица строка\n",
    "x.reshape(1, 3)"
   ]
  },
  {
   "cell_type": "code",
   "execution_count": 60,
   "id": "044a033a-51c2-475a-b04b-6fb416f78dad",
   "metadata": {},
   "outputs": [
    {
     "data": {
      "text/plain": [
       "array([[1],\n",
       "       [2],\n",
       "       [3]])"
      ]
     },
     "execution_count": 60,
     "metadata": {},
     "output_type": "execute_result"
    }
   ],
   "source": [
    "# В матрицу столбец используя newaxis\n",
    "x[:, np.newaxis]"
   ]
  },
  {
   "cell_type": "markdown",
   "id": "353a0ab0-5245-4226-9f42-c27b7ae4eed0",
   "metadata": {},
   "source": [
    "### Слияние и разбиение массивов"
   ]
  },
  {
   "cell_type": "markdown",
   "id": "897291e0-d26c-4269-988e-178c2b09445d",
   "metadata": {},
   "source": [
    "#### Слияние"
   ]
  },
  {
   "cell_type": "markdown",
   "id": "34a8c3d7-ee4b-4d02-9d88-aa745fb9c414",
   "metadata": {},
   "source": [
    "Используют: **np.concatenate. np.vstack, np.hstack**"
   ]
  },
  {
   "cell_type": "code",
   "execution_count": 62,
   "id": "223ef8fc-5b14-4a66-aaa2-8c46bf27c390",
   "metadata": {},
   "outputs": [
    {
     "data": {
      "text/plain": [
       "array([1, 2, 3, 3, 2, 1])"
      ]
     },
     "execution_count": 62,
     "metadata": {},
     "output_type": "execute_result"
    }
   ],
   "source": [
    "# np.concatenate принимает на вхож кортеж или список массивов\n",
    "x = np.array([1, 2, 3])\n",
    "y = np.array([3, 2, 1])\n",
    "np.concatenate([x, y])"
   ]
  },
  {
   "cell_type": "code",
   "execution_count": 63,
   "id": "57b343f5-df65-4499-8aca-b31a13666a34",
   "metadata": {},
   "outputs": [
    {
     "data": {
      "text/plain": [
       "array([ 1,  2,  3,  3,  2,  1, 99, 99, 99])"
      ]
     },
     "execution_count": 63,
     "metadata": {},
     "output_type": "execute_result"
    }
   ],
   "source": [
    "# Можно более двух\n",
    "z = np.array([99, 99 ,99])\n",
    "np.concatenate([x, y, z])"
   ]
  },
  {
   "cell_type": "code",
   "execution_count": 69,
   "id": "0ec868b4-86ac-492e-b551-48aab85461e8",
   "metadata": {},
   "outputs": [
    {
     "data": {
      "text/plain": [
       "array([[1, 2, 3],\n",
       "       [4, 5, 6]])"
      ]
     },
     "execution_count": 69,
     "metadata": {},
     "output_type": "execute_result"
    }
   ],
   "source": [
    "# Объединение двумерных массивов\n",
    "grid = np.array([[1, 2, 3],\n",
    "                [4, 5 ,6]])\n",
    "grid"
   ]
  },
  {
   "cell_type": "code",
   "execution_count": 67,
   "id": "b9217290-bc48-4826-be17-80514d3ece23",
   "metadata": {},
   "outputs": [
    {
     "data": {
      "text/plain": [
       "array([[1, 2, 3],\n",
       "       [4, 5, 6],\n",
       "       [1, 2, 3],\n",
       "       [4, 5, 6]])"
      ]
     },
     "execution_count": 67,
     "metadata": {},
     "output_type": "execute_result"
    }
   ],
   "source": [
    "# Слияние по первой оси координат\n",
    "np.concatenate([grid, grid])"
   ]
  },
  {
   "cell_type": "code",
   "execution_count": 70,
   "id": "5702555e-bbe3-4c9c-b84c-7379e10fe113",
   "metadata": {},
   "outputs": [
    {
     "data": {
      "text/plain": [
       "array([[1, 2, 3, 1, 2, 3],\n",
       "       [4, 5, 6, 4, 5, 6]])"
      ]
     },
     "execution_count": 70,
     "metadata": {},
     "output_type": "execute_result"
    }
   ],
   "source": [
    "# Слияние по второй оси коордианат (с индексом 0)\n",
    "np.concatenate([grid, grid], axis=1)\n"
   ]
  },
  {
   "cell_type": "markdown",
   "id": "df28fb1a-7109-4ba0-87ff-455acdd12db8",
   "metadata": {},
   "source": [
    "Если размеры у массивов разные - то для конкатенации по вертикали используем np.vstack, для горизонтали - np.hstack."
   ]
  },
  {
   "cell_type": "code",
   "execution_count": 73,
   "id": "d2137587-5e1f-43a7-8d4e-dad4bdca502f",
   "metadata": {},
   "outputs": [
    {
     "data": {
      "text/plain": [
       "array([[1, 2, 3],\n",
       "       [9, 8, 7],\n",
       "       [6, 5, 4]])"
      ]
     },
     "execution_count": 73,
     "metadata": {},
     "output_type": "execute_result"
    }
   ],
   "source": [
    "x = np.array([1, 2, 3])\n",
    "grid = np.array([[9, 8, 7],\n",
    "                 [6, 5, 4]])\n",
    "\n",
    "np.vstack([x, grid])"
   ]
  },
  {
   "cell_type": "code",
   "execution_count": 76,
   "id": "f37e6648-86bf-406a-9fa6-a2f098111a11",
   "metadata": {},
   "outputs": [
    {
     "data": {
      "text/plain": [
       "array([[ 9,  8,  7, 99],\n",
       "       [ 6,  5,  4, 99]])"
      ]
     },
     "execution_count": 76,
     "metadata": {},
     "output_type": "execute_result"
    }
   ],
   "source": [
    "y = np.array([[99],\n",
    "             [99]])\n",
    "\n",
    "np.hstack([grid, y])"
   ]
  },
  {
   "cell_type": "markdown",
   "id": "71ed8046-0f15-4f50-afdf-67076e2aa0e0",
   "metadata": {},
   "source": [
    "Функция **np.dstack** аналогично объединяет массивы по третьей оси"
   ]
  },
  {
   "cell_type": "markdown",
   "id": "17b7d327-42b9-4cd4-9f6d-7267cd4e8998",
   "metadata": {},
   "source": [
    "#### Разбиение массивов"
   ]
  },
  {
   "cell_type": "markdown",
   "id": "cc9907c7-55da-4ba6-8dd8-66df48247c0a",
   "metadata": {},
   "source": [
    "Используют: **np.split. np.vsplit, np.hsplit**. В каждый из них нужно передавать список с индексами, которые будут разделять исходный массив."
   ]
  },
  {
   "cell_type": "code",
   "execution_count": 81,
   "id": "e24fba25-9faa-418d-aa66-a52af8ffb2fa",
   "metadata": {},
   "outputs": [],
   "source": [
    "x = [1, 2, 3, 99, 99, 3, 2, 1]"
   ]
  },
  {
   "cell_type": "code",
   "execution_count": 82,
   "id": "e56b074c-a380-4387-82c5-4ffe0ad34751",
   "metadata": {},
   "outputs": [
    {
     "name": "stdout",
     "output_type": "stream",
     "text": [
      "[1 2 3] [99 99] [3 2 1]\n"
     ]
    }
   ],
   "source": [
    "x1, x2, x3 = np.split(x, [3, 5])\n",
    "print(x1, x2, x3)"
   ]
  },
  {
   "cell_type": "code",
   "execution_count": 83,
   "id": "3a19a0f9-6e5b-413b-840b-326dedc602f0",
   "metadata": {},
   "outputs": [
    {
     "data": {
      "text/plain": [
       "array([[ 0,  1,  2,  3],\n",
       "       [ 4,  5,  6,  7],\n",
       "       [ 8,  9, 10, 11],\n",
       "       [12, 13, 14, 15]])"
      ]
     },
     "execution_count": 83,
     "metadata": {},
     "output_type": "execute_result"
    }
   ],
   "source": [
    "grid = np.arange(16).reshape((4, 4))\n",
    "grid"
   ]
  },
  {
   "cell_type": "code",
   "execution_count": 87,
   "id": "8ccaff6e-bf7a-4f33-97db-95022b10e7f0",
   "metadata": {},
   "outputs": [
    {
     "name": "stdout",
     "output_type": "stream",
     "text": [
      "[[0 1 2 3]\n",
      " [4 5 6 7]]\n",
      "[[ 8  9 10 11]\n",
      " [12 13 14 15]]\n"
     ]
    }
   ],
   "source": [
    "upper, lower = np.vsplit(grid, [2])\n",
    "print(upper)\n",
    "print(lower)\n"
   ]
  },
  {
   "cell_type": "code",
   "execution_count": 89,
   "id": "a3e44e9d-ece6-4383-8ab1-3b8d9080b6e3",
   "metadata": {},
   "outputs": [
    {
     "name": "stdout",
     "output_type": "stream",
     "text": [
      "[[ 0  1]\n",
      " [ 4  5]\n",
      " [ 8  9]\n",
      " [12 13]]\n",
      "[[ 2  3]\n",
      " [ 6  7]\n",
      " [10 11]\n",
      " [14 15]]\n"
     ]
    }
   ],
   "source": [
    "left, right = np.hsplit(grid, [2])\n",
    "print(left)\n",
    "print(right)"
   ]
  },
  {
   "cell_type": "markdown",
   "id": "03a50df7-4fc9-4114-8096-841019e9edd8",
   "metadata": {},
   "source": [
    "Функция **np.dsplit** разделяем массивы по третьей оси"
   ]
  },
  {
   "cell_type": "markdown",
   "id": "1babb4a2-6a1d-4f70-98d8-94d90823487c",
   "metadata": {},
   "source": [
    "### Выполнения вычислений над массивами библиотеки NumPy: универсальные функции"
   ]
  },
  {
   "cell_type": "markdown",
   "id": "65b2cb0f-8d61-4ee3-adfe-cf4d7c9a2b60",
   "metadata": {},
   "source": [
    "#### Арифметические функции над массивами"
   ]
  },
  {
   "cell_type": "code",
   "execution_count": 92,
   "id": "d2c1eb3f-32a4-449e-aa4c-134658265d25",
   "metadata": {},
   "outputs": [
    {
     "data": {
      "text/plain": [
       "array([0, 1, 2, 3])"
      ]
     },
     "execution_count": 92,
     "metadata": {},
     "output_type": "execute_result"
    }
   ],
   "source": [
    "x = np.arange(4)\n",
    "x"
   ]
  },
  {
   "cell_type": "code",
   "execution_count": 95,
   "id": "2c736466-0fad-40ee-b281-441466332438",
   "metadata": {},
   "outputs": [
    {
     "name": "stdout",
     "output_type": "stream",
     "text": [
      "x =  [0 1 2 3]\n",
      "x + 5 = [5 6 7 8]\n",
      "x - 5 = [-5 -4 -3 -2]\n",
      "x * 2 = [0 2 4 6]\n",
      "x / 2 = [0.  0.5 1.  1.5]\n",
      "x ** 2 = [0 1 4 9]\n"
     ]
    }
   ],
   "source": [
    "print('x = ', x)\n",
    "print('x + 5 =', x + 5)\n",
    "print('x - 5 =', x - 5)\n",
    "print('x * 2 =', x * 2)\n",
    "print('x / 2 =', x / 2)\n",
    "print('x ** 2 =', x ** 2)"
   ]
  },
  {
   "cell_type": "code",
   "execution_count": 96,
   "id": "5769c41b-1d1b-4eef-8f06-2fc4096c98cd",
   "metadata": {},
   "outputs": [
    {
     "data": {
      "text/plain": [
       "array([-1.  , -2.25, -4.  , -6.25])"
      ]
     },
     "execution_count": 96,
     "metadata": {},
     "output_type": "execute_result"
    }
   ],
   "source": [
    "# Можно соединять в несколько операций (преоритет будет соблюдаться)\n",
    "-(0.5*x + 1) ** 2"
   ]
  },
  {
   "cell_type": "markdown",
   "id": "4e431c98-a323-4541-866c-724f99908f9d",
   "metadata": {},
   "source": [
    "Все арифметические функции - удобные адаптеры для встроенных функций библиотеки NumPy."
   ]
  },
  {
   "cell_type": "code",
   "execution_count": 97,
   "id": "c316b2d4-677e-4219-99a8-de914e688feb",
   "metadata": {},
   "outputs": [
    {
     "data": {
      "text/plain": [
       "array([2, 3, 4, 5])"
      ]
     },
     "execution_count": 97,
     "metadata": {},
     "output_type": "execute_result"
    }
   ],
   "source": [
    "# Например операция \"+\" это .add()\n",
    "np.add(x, 2)"
   ]
  },
  {
   "cell_type": "markdown",
   "id": "3aef687f-ea0f-46ca-84d1-de47ad1946fc",
   "metadata": {},
   "source": [
    "#### Абсолютное значение"
   ]
  },
  {
   "cell_type": "code",
   "execution_count": 98,
   "id": "9f0ad283-a205-49bd-9d43-a0f7e8058f1b",
   "metadata": {},
   "outputs": [
    {
     "data": {
      "text/plain": [
       "array([2, 1, 0, 1, 2])"
      ]
     },
     "execution_count": 98,
     "metadata": {},
     "output_type": "execute_result"
    }
   ],
   "source": [
    "x = np.array([-2, -1, 0, 1, 2])\n",
    "abs(x)"
   ]
  },
  {
   "cell_type": "code",
   "execution_count": 99,
   "id": "46872c65-b994-4e8a-bd89-80fec5c033ba",
   "metadata": {},
   "outputs": [
    {
     "data": {
      "text/plain": [
       "array([2, 1, 0, 1, 2])"
      ]
     },
     "execution_count": 99,
     "metadata": {},
     "output_type": "execute_result"
    }
   ],
   "source": [
    "np.absolute(x)"
   ]
  },
  {
   "cell_type": "code",
   "execution_count": 100,
   "id": "bdffb0f7-dbcf-499d-ab99-7b65c89c8222",
   "metadata": {},
   "outputs": [
    {
     "data": {
      "text/plain": [
       "array([2, 1, 0, 1, 2])"
      ]
     },
     "execution_count": 100,
     "metadata": {},
     "output_type": "execute_result"
    }
   ],
   "source": [
    "np.abs(x)"
   ]
  },
  {
   "cell_type": "markdown",
   "id": "819bb8ef-4351-4c22-8cf5-800e01f91df6",
   "metadata": {},
   "source": [
    "#### Тригонометрические функции"
   ]
  },
  {
   "cell_type": "code",
   "execution_count": 102,
   "id": "b6cd1edd-4237-4ab4-8bdb-8516448e4d68",
   "metadata": {},
   "outputs": [
    {
     "data": {
      "text/plain": [
       "array([0.        , 1.57079633, 3.14159265])"
      ]
     },
     "execution_count": 102,
     "metadata": {},
     "output_type": "execute_result"
    }
   ],
   "source": [
    "theta = np.linspace(0, np.pi, 3) # np.linspace - равномерно распределенные значения между 0 и PI (3 штуки)\n",
    "theta"
   ]
  },
  {
   "cell_type": "code",
   "execution_count": 103,
   "id": "d9dbc773-a32f-4bc8-b395-92726a83e94b",
   "metadata": {},
   "outputs": [
    {
     "name": "stdout",
     "output_type": "stream",
     "text": [
      "cos(theta) =  [ 1.000000e+00  6.123234e-17 -1.000000e+00]\n",
      "sin(theta) =  [0.0000000e+00 1.0000000e+00 1.2246468e-16]\n"
     ]
    }
   ],
   "source": [
    "print('cos(theta) = ', np.cos(theta))\n",
    "print('sin(theta) = ', np.sin(theta))"
   ]
  },
  {
   "cell_type": "markdown",
   "id": "072f836a-dede-4f40-a359-920d0f77c93b",
   "metadata": {},
   "source": [
    "#### Показательные функции и логарифмы"
   ]
  },
  {
   "cell_type": "code",
   "execution_count": 104,
   "id": "b16e749f-8a43-452c-8512-24889bc99b20",
   "metadata": {},
   "outputs": [
    {
     "data": {
      "text/plain": [
       "[1, 2, 3]"
      ]
     },
     "execution_count": 104,
     "metadata": {},
     "output_type": "execute_result"
    }
   ],
   "source": [
    "x = [1, 2, 3]\n",
    "x"
   ]
  },
  {
   "cell_type": "code",
   "execution_count": 109,
   "id": "15daeebd-4aa6-4284-9796-6fae2876b84e",
   "metadata": {},
   "outputs": [
    {
     "name": "stdout",
     "output_type": "stream",
     "text": [
      "e^x =  [ 2.71828183  7.3890561  20.08553692]\n",
      "2^x =  [2. 4. 8.]\n",
      "3^x =  [ 1  8 27]\n"
     ]
    }
   ],
   "source": [
    "print('e^x = ', np.exp(x))\n",
    "print('2^x = ', np.exp2(x))\n",
    "print('3^x = ', np.power(x, 3))"
   ]
  },
  {
   "cell_type": "code",
   "execution_count": 110,
   "id": "ce52d3b2-45eb-4538-bb0d-5a6c355d91b4",
   "metadata": {},
   "outputs": [
    {
     "name": "stdout",
     "output_type": "stream",
     "text": [
      "ln(x) =  [0.         0.69314718 1.09861229]\n",
      "log2(x) =  [0.        1.        1.5849625]\n",
      "log10(x) =  [0.         0.30103    0.47712125]\n"
     ]
    }
   ],
   "source": [
    "print('ln(x) = ', np.log(x)) # По натуральному основанию\n",
    "print('log2(x) = ', np.log2(x))\n",
    "print('log10(x) = ', np.log10(x))"
   ]
  },
  {
   "cell_type": "markdown",
   "id": "bfaa3c2f-96d2-4c8d-b5e1-c56f18cda678",
   "metadata": {},
   "source": [
    "#### Специализированные универсальные функции "
   ]
  },
  {
   "cell_type": "markdown",
   "id": "3bdc3f54-fc9c-4844-ae32-4a29b8d7068a",
   "metadata": {},
   "source": [
    "Если необходимо вычислить значение какой-то хитрой математической функции - найти можно в **scipy.special**."
   ]
  },
  {
   "cell_type": "code",
   "execution_count": 3,
   "id": "1ae48a46-cd32-4a04-9022-77f993446c6b",
   "metadata": {},
   "outputs": [],
   "source": [
    "from scipy import special"
   ]
  },
  {
   "cell_type": "code",
   "execution_count": 8,
   "id": "cf25728e-4160-4b03-bc70-e2bf647e10a2",
   "metadata": {},
   "outputs": [
    {
     "name": "stdout",
     "output_type": "stream",
     "text": [
      "gamma(x) = [1.0000e+00 2.4000e+01 3.6288e+05]\n",
      "ln|gamma(x) = [ 0.          3.17805383 12.80182748]\n",
      "beta(x, 2) = [0.5        0.03333333 0.00909091]\n"
     ]
    }
   ],
   "source": [
    "# Гамма-функции (обобщенные факториалы) и тому подобные функции\n",
    "x = [1, 5, 10]\n",
    "print('gamma(x) =', special.gamma(x))\n",
    "print('ln|gamma(x) =', special.gammaln(x))\n",
    "print('beta(x, 2) =', special.beta(x, 2))"
   ]
  },
  {
   "cell_type": "code",
   "execution_count": 10,
   "id": "69e3e9cc-5754-43ad-b163-d17795804755",
   "metadata": {},
   "outputs": [
    {
     "name": "stdout",
     "output_type": "stream",
     "text": [
      "erf(x) = [0.         0.32862676 0.67780119 0.84270079]\n",
      "erfc(x) = [1.         0.67137324 0.32219881 0.15729921]\n",
      "erfinv(x) = [0.         0.27246271 0.73286908        inf]\n"
     ]
    }
   ],
   "source": [
    "# Функция ошибок (интеграл от Гауссовой функции),\n",
    "# дополнительная и обратная к ней функции\n",
    "x = np.array([0, 0.3, 0.7, 1.0])\n",
    "print('erf(x) =', special.erf(x))\n",
    "print('erfc(x) =', special.erfc(x))\n",
    "print('erfinv(x) =', special.erfinv(x))"
   ]
  },
  {
   "cell_type": "markdown",
   "id": "c29d6237-71a6-4350-893d-0f1c7d14145c",
   "metadata": {},
   "source": [
    "### Продвинутые возможности универсальных функций"
   ]
  },
  {
   "cell_type": "markdown",
   "id": "d7a9831b-ca02-4ff0-9393-bbf3e6c72a1c",
   "metadata": {},
   "source": [
    "#### Указание массива для вывода результата"
   ]
  },
  {
   "cell_type": "markdown",
   "id": "0ccbec4b-ce0f-45b9-9a71-64da32c1016c",
   "metadata": {},
   "source": [
    "Вместо того, чтобы создавать временный массив можно воспользоваться возможностью для записи результатов вычислений\n",
    "непосредственно в нужное место в памяти. Для любой универсальной функции можно сделать через аргумент **out**."
   ]
  },
  {
   "cell_type": "code",
   "execution_count": 11,
   "id": "92faa6a9-d306-40ce-887d-b11d6a3f43de",
   "metadata": {},
   "outputs": [
    {
     "name": "stdout",
     "output_type": "stream",
     "text": [
      "[ 0. 10. 20. 30. 40.]\n"
     ]
    }
   ],
   "source": [
    "x = np.arange(5)\n",
    "y = np.empty(5)\n",
    "np.multiply(x, 10, out=y)\n",
    "print(y)"
   ]
  },
  {
   "cell_type": "code",
   "execution_count": 12,
   "id": "834b9532-fbb9-4444-9ff3-49b91cc79040",
   "metadata": {},
   "outputs": [
    {
     "name": "stdout",
     "output_type": "stream",
     "text": [
      "[ 1.  0.  2.  0.  4.  0.  8.  0. 16.  0.]\n"
     ]
    }
   ],
   "source": [
    "# Например можно записать результат в каждый второй элемент массива\n",
    "y = np.zeros(10)\n",
    "np.power(2, x, out=y[::2])\n",
    "print(y)"
   ]
  },
  {
   "cell_type": "markdown",
   "id": "590a00af-774c-46ba-a7ec-3c53b8dacf8b",
   "metadata": {},
   "source": [
    "Если бы я написал y[::2] = 2 ** x, был бы создан временный массив для хранения результатов операции 2 ** x с последующим копированием этих значений в массив y. Для большого массива - это занимало бы много памяти."
   ]
  },
  {
   "cell_type": "markdown",
   "id": "cf2cc578-d078-47b1-acbd-9abfe34b19c0",
   "metadata": {},
   "source": [
    "#### Сводные показатели"
   ]
  },
  {
   "cell_type": "markdown",
   "id": "e15cc3b4-7981-452c-8318-3e6c91d05b09",
   "metadata": {},
   "source": [
    "У бинарных универсальных функций есть возможность вычислять непосредственно на основе объекта некоторые свобдные данные."
   ]
  },
  {
   "cell_type": "code",
   "execution_count": 17,
   "id": "cfa4a536-ddbc-440a-aad1-79b543e5493f",
   "metadata": {},
   "outputs": [
    {
     "name": "stdout",
     "output_type": "stream",
     "text": [
      "[1 2 3 4 5]\n"
     ]
    },
    {
     "data": {
      "text/plain": [
       "15"
      ]
     },
     "execution_count": 17,
     "metadata": {},
     "output_type": "execute_result"
    }
   ],
   "source": [
    "# Например, вызов метода reduce для универсальной функции add возвращает сумму всех элементов массива\n",
    "x = np.arange(1, 6)\n",
    "print(x)\n",
    "np.add.reduce(x)"
   ]
  },
  {
   "cell_type": "code",
   "execution_count": 20,
   "id": "bf04af67-fa19-4149-b861-a0d6b7ff9f97",
   "metadata": {},
   "outputs": [
    {
     "data": {
      "text/plain": [
       "120"
      ]
     },
     "execution_count": 20,
     "metadata": {},
     "output_type": "execute_result"
    }
   ],
   "source": [
    "np.multiply.reduce(x)"
   ]
  },
  {
   "cell_type": "code",
   "execution_count": null,
   "id": "752324e5-42dd-4686-96cc-68f372ab693a",
   "metadata": {},
   "outputs": [],
   "source": []
  }
 ],
 "metadata": {
  "kernelspec": {
   "display_name": "Python 3 (ipykernel)",
   "language": "python",
   "name": "python3"
  },
  "language_info": {
   "codemirror_mode": {
    "name": "ipython",
    "version": 3
   },
   "file_extension": ".py",
   "mimetype": "text/x-python",
   "name": "python",
   "nbconvert_exporter": "python",
   "pygments_lexer": "ipython3",
   "version": "3.12.2"
  }
 },
 "nbformat": 4,
 "nbformat_minor": 5
}
