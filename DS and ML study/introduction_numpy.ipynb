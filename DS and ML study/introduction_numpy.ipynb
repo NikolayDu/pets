{
 "cells": [
  {
   "cell_type": "markdown",
   "id": "87a9e55a-9c43-4262-b698-eb4c1fa49783",
   "metadata": {},
   "source": [
    "# Введение в библиотеку NumPy"
   ]
  },
  {
   "cell_type": "code",
   "execution_count": 1,
   "id": "f5b9fe66-d4f0-45a0-8477-ba924f6b5c00",
   "metadata": {},
   "outputs": [],
   "source": [
    "import numpy as np"
   ]
  },
  {
   "cell_type": "code",
   "execution_count": 2,
   "id": "f8c16ac9-04b5-4c9c-bfd3-dab33adefbc5",
   "metadata": {},
   "outputs": [
    {
     "name": "stdout",
     "output_type": "stream",
     "text": [
      "1.26.4\n"
     ]
    }
   ],
   "source": [
    "print(np.__version__)"
   ]
  },
  {
   "cell_type": "markdown",
   "id": "9f5ea6f4-12b8-4d21-9e0e-27866b2de9a7",
   "metadata": {},
   "source": [
    "## Создание массивов из списков языка Python"
   ]
  },
  {
   "cell_type": "code",
   "execution_count": 6,
   "id": "42a55279-ffd7-4799-ab96-c6eee16808cc",
   "metadata": {},
   "outputs": [
    {
     "data": {
      "text/plain": [
       "array([1, 4, 2, 5, 3])"
      ]
     },
     "execution_count": 6,
     "metadata": {},
     "output_type": "execute_result"
    }
   ],
   "source": [
    "np.array([1, 4, 2, 5, 3]) # Массив целочисленных значений"
   ]
  },
  {
   "cell_type": "code",
   "execution_count": 8,
   "id": "8c055881-5a37-4ae2-87c6-e417838b4fe2",
   "metadata": {},
   "outputs": [
    {
     "data": {
      "text/plain": [
       "array([3.14, 4.  , 2.  , 3.  ])"
      ]
     },
     "execution_count": 8,
     "metadata": {},
     "output_type": "execute_result"
    }
   ],
   "source": [
    "np.array([3.14, 4, 2, 3]) # Массив ограничивается только одним типом. Если добавить float, то он исправит все значения на float"
   ]
  },
  {
   "cell_type": "code",
   "execution_count": 9,
   "id": "c7274807-a442-4190-b2e4-b72a286432ce",
   "metadata": {},
   "outputs": [
    {
     "data": {
      "text/plain": [
       "array([1., 2., 3., 4.], dtype=float32)"
      ]
     },
     "execution_count": 9,
     "metadata": {},
     "output_type": "execute_result"
    }
   ],
   "source": [
    "np.array([1, 2, 3, 4], dtype='float32') # если нужно явно указать тип данных для массива"
   ]
  },
  {
   "cell_type": "code",
   "execution_count": 10,
   "id": "57b3b90c-62e9-42b1-8000-bff77fc27315",
   "metadata": {},
   "outputs": [
    {
     "data": {
      "text/plain": [
       "array([[2, 3, 4],\n",
       "       [4, 5, 6],\n",
       "       [6, 7, 8]])"
      ]
     },
     "execution_count": 10,
     "metadata": {},
     "output_type": "execute_result"
    }
   ],
   "source": [
    "# Вложенные списки прообразуются в многомерный массив\n",
    "np.array([range(i, i + 3) for i in [2, 4, 6]])"
   ]
  },
  {
   "cell_type": "markdown",
   "id": "9e2199e8-0c31-4e48-8c89-4fb97f649531",
   "metadata": {},
   "source": [
    "## Создание массивов с нуля"
   ]
  },
  {
   "cell_type": "code",
   "execution_count": 19,
   "id": "6b280924-bc23-4771-9de7-83bcdfed1dec",
   "metadata": {},
   "outputs": [
    {
     "data": {
      "text/plain": [
       "array([0, 0, 0, 0, 0, 0, 0, 0, 0, 0])"
      ]
     },
     "execution_count": 19,
     "metadata": {},
     "output_type": "execute_result"
    }
   ],
   "source": [
    "# Создать массив целых чисел длины 10, заполненных нулями\n",
    "np.zeros(10, dtype=int)"
   ]
  },
  {
   "cell_type": "code",
   "execution_count": 23,
   "id": "a08e94a1-4738-4c72-9040-f8bbab2d6eae",
   "metadata": {},
   "outputs": [
    {
     "data": {
      "text/plain": [
       "array([[1., 1., 1., 1., 1.],\n",
       "       [1., 1., 1., 1., 1.],\n",
       "       [1., 1., 1., 1., 1.]], dtype=float32)"
      ]
     },
     "execution_count": 23,
     "metadata": {},
     "output_type": "execute_result"
    }
   ],
   "source": [
    "# Массив 3x5 с единицами с плавающей точкой\n",
    "np.ones((3, 5), dtype='float32')"
   ]
  },
  {
   "cell_type": "code",
   "execution_count": 24,
   "id": "de4b61e8-8af4-46e1-a8d6-ba7c18eb4792",
   "metadata": {},
   "outputs": [
    {
     "data": {
      "text/plain": [
       "array([[3.14, 3.14, 3.14, 3.14, 3.14],\n",
       "       [3.14, 3.14, 3.14, 3.14, 3.14],\n",
       "       [3.14, 3.14, 3.14, 3.14, 3.14]])"
      ]
     },
     "execution_count": 24,
     "metadata": {},
     "output_type": "execute_result"
    }
   ],
   "source": [
    "# Массив, заполненный конкретным значением\n",
    "np.full((3, 5), 3.14)"
   ]
  },
  {
   "cell_type": "code",
   "execution_count": 28,
   "id": "17fc3491-a374-4ff4-a2ba-8da847580468",
   "metadata": {},
   "outputs": [
    {
     "data": {
      "text/plain": [
       "array([ 0,  2,  4,  6,  8, 10, 12, 14, 16, 18])"
      ]
     },
     "execution_count": 28,
     "metadata": {},
     "output_type": "execute_result"
    }
   ],
   "source": [
    "# Массив, заданной линейной последовательностью с 0 до 20 с шагом в 2\n",
    "np.arange(0, 20, 2)"
   ]
  },
  {
   "cell_type": "code",
   "execution_count": 32,
   "id": "4c1c2683-5b54-465b-bc66-25c8f6136be9",
   "metadata": {},
   "outputs": [
    {
     "data": {
      "text/plain": [
       "array([0.  , 0.25, 0.5 , 0.75, 1.  ])"
      ]
     },
     "execution_count": 32,
     "metadata": {},
     "output_type": "execute_result"
    }
   ],
   "source": [
    "# Массив из пяти значений, равномерно распределенных между 0 и 1\n",
    "np.linspace(0, 1, 5)"
   ]
  },
  {
   "cell_type": "code",
   "execution_count": 34,
   "id": "817e6b7a-5dff-4604-9939-a719453fb399",
   "metadata": {},
   "outputs": [
    {
     "data": {
      "text/plain": [
       "array([[0.90564238, 0.43472441, 0.23978443],\n",
       "       [0.50236998, 0.98417084, 0.5123305 ],\n",
       "       [0.0743034 , 0.16268584, 0.183389  ]])"
      ]
     },
     "execution_count": 34,
     "metadata": {},
     "output_type": "execute_result"
    }
   ],
   "source": [
    "# Массив 3x3 равномерно распределенных СЛУЧАЙНЫХ значений между 0  и 1\n",
    "np.random.random((3, 3))"
   ]
  },
  {
   "cell_type": "code",
   "execution_count": 35,
   "id": "f4536e0c-5375-4754-a99e-ad064ce66722",
   "metadata": {},
   "outputs": [
    {
     "data": {
      "text/plain": [
       "array([[-1.23960236, -0.49453963, -1.73737272],\n",
       "       [ 0.22362313,  0.6696425 , -0.44140676],\n",
       "       [ 2.26212383,  1.47829973, -0.03397979]])"
      ]
     },
     "execution_count": 35,
     "metadata": {},
     "output_type": "execute_result"
    }
   ],
   "source": [
    "# Массив 3x3 нормально распределныых случайных значений с медианой 0 и стандартным отклонение 1\n",
    "\n",
    "# Медиана 0: Медиана — это значение, которое делит распределение на две равные части.\n",
    "# Если медиана равна 0, это означает, что половина значений меньше или равна 0, а другая половина больше или равна 0.\n",
    "\n",
    "# Стандартное отклонение 1: Стандартное отклонение — это мера разброса значений относительно средней.\n",
    "# Если стандартное отклонение равно 1, это указывает на то, что значения распределены относительно среднего значения (в данном случае 0)\n",
    "# с характерным разбросом, который соответствует нормальному распределению.\n",
    "\n",
    "np.random.normal(0, 1, (3, 3)) # Или подругому с явными указаниями:  np.random.normal(loc=0, scale=1, size=(3, 3))"
   ]
  },
  {
   "cell_type": "code",
   "execution_count": 36,
   "id": "b9fe54ba-338a-4f7e-b731-c8c255e5d454",
   "metadata": {},
   "outputs": [
    {
     "data": {
      "text/plain": [
       "array([[6, 6, 2],\n",
       "       [5, 6, 0],\n",
       "       [1, 5, 9]])"
      ]
     },
     "execution_count": 36,
     "metadata": {},
     "output_type": "execute_result"
    }
   ],
   "source": [
    "# Массив 3x3  случайных целых чисел в [0, 10)\n",
    "np.random.randint(0, 10, (3, 3))"
   ]
  },
  {
   "cell_type": "code",
   "execution_count": 37,
   "id": "f2689ea4-3615-426e-ba77-585c065746d7",
   "metadata": {},
   "outputs": [
    {
     "data": {
      "text/plain": [
       "array([[1., 0., 0.],\n",
       "       [0., 1., 0.],\n",
       "       [0., 0., 1.]])"
      ]
     },
     "execution_count": 37,
     "metadata": {},
     "output_type": "execute_result"
    }
   ],
   "source": [
    "# Единичная матрица 3x3\n",
    "np.eye(3)"
   ]
  },
  {
   "cell_type": "code",
   "execution_count": 38,
   "id": "dc42f972-6955-44e8-a364-dd202b62a90c",
   "metadata": {},
   "outputs": [
    {
     "data": {
      "text/plain": [
       "array([1., 1., 1.])"
      ]
     },
     "execution_count": 38,
     "metadata": {},
     "output_type": "execute_result"
    }
   ],
   "source": [
    "# Неинициализированный мастив из трёх целочисленных значений\n",
    "# Значения будут производные, случайно оказавшиеся в соответствующих ячейках памяти\n",
    "np.empty(3)"
   ]
  },
  {
   "cell_type": "markdown",
   "id": "1be293c8-da47-4506-b828-28c12df7270b",
   "metadata": {},
   "source": [
    "## Введение в массивы библиотеки NumPy"
   ]
  },
  {
   "cell_type": "markdown",
   "id": "9eb2eb7a-1086-4744-bdfd-dad9ece443e7",
   "metadata": {},
   "source": [
    "### Атрибуты массивов библиотеки NumPy"
   ]
  },
  {
   "cell_type": "code",
   "execution_count": 39,
   "id": "23c95bfa-3f9e-4782-985c-c18653a0992a",
   "metadata": {},
   "outputs": [],
   "source": [
    "np.random.seed(0) # seed нужен для генерации одних и тех же рандомных значений после каждом выполнении кода"
   ]
  },
  {
   "cell_type": "code",
   "execution_count": 41,
   "id": "6b8193a3-6884-4d68-8528-248701a91b23",
   "metadata": {},
   "outputs": [],
   "source": [
    "x1 = np.random.randint(10, size=6) # одномерный массив\n",
    "x2 = np.random.randint(10, size=(3, 4)) # двумерный массив\n",
    "x3 = np.random.randint(10, size=(3, 4, 5)) # трехмерный массив"
   ]
  },
  {
   "cell_type": "code",
   "execution_count": 43,
   "id": "51021df7-2e6b-4f4a-a29c-fe63cd75b8ac",
   "metadata": {},
   "outputs": [
    {
     "data": {
      "text/plain": [
       "array([[[3, 7, 0, 1, 9],\n",
       "        [9, 0, 4, 7, 3],\n",
       "        [2, 7, 2, 0, 0],\n",
       "        [4, 5, 5, 6, 8]],\n",
       "\n",
       "       [[4, 1, 4, 9, 8],\n",
       "        [1, 1, 7, 9, 9],\n",
       "        [3, 6, 7, 2, 0],\n",
       "        [3, 5, 9, 4, 4]],\n",
       "\n",
       "       [[6, 4, 4, 3, 4],\n",
       "        [4, 8, 4, 3, 7],\n",
       "        [5, 5, 0, 1, 5],\n",
       "        [9, 3, 0, 5, 0]]])"
      ]
     },
     "execution_count": 43,
     "metadata": {},
     "output_type": "execute_result"
    }
   ],
   "source": [
    "x3"
   ]
  },
  {
   "cell_type": "code",
   "execution_count": 42,
   "id": "e0bfbfef-008c-450b-b5fa-09e82b54c588",
   "metadata": {},
   "outputs": [
    {
     "name": "stdout",
     "output_type": "stream",
     "text": [
      "x3 ndim: 3\n",
      "x3 shape: (3, 4, 5)\n",
      "x3 size: 60\n"
     ]
    }
   ],
   "source": [
    "print('x3 ndim:', x3.ndim) # размерность\n",
    "print('x3 shape:', x3.shape) # размер каждого измерения\n",
    "print('x3 size:', x3.size) # общий размер массива"
   ]
  },
  {
   "cell_type": "code",
   "execution_count": 44,
   "id": "8ab37869-29f4-441d-9cde-766246e9ec82",
   "metadata": {},
   "outputs": [
    {
     "name": "stdout",
     "output_type": "stream",
     "text": [
      "dtype: int32\n"
     ]
    }
   ],
   "source": [
    "print('dtype:', x3.dtype)"
   ]
  },
  {
   "cell_type": "code",
   "execution_count": 46,
   "id": "98b31a02-6996-4803-8043-68d3db6db572",
   "metadata": {},
   "outputs": [
    {
     "name": "stdout",
     "output_type": "stream",
     "text": [
      "itemsize: 4 bytes\n",
      "nbytes: 240 bytes\n"
     ]
    }
   ],
   "source": [
    "print('itemsize:', x3.itemsize, 'bytes') # размер каждого элемента в байтах\n",
    "print('nbytes:', x3.nbytes, 'bytes') # полный размер массива в байтах (.itemsize * .size)"
   ]
  },
  {
   "cell_type": "code",
   "execution_count": null,
   "id": "45055170-c22f-4808-9a69-5ae3b930da13",
   "metadata": {},
   "outputs": [],
   "source": []
  }
 ],
 "metadata": {
  "kernelspec": {
   "display_name": "Python 3 (ipykernel)",
   "language": "python",
   "name": "python3"
  },
  "language_info": {
   "codemirror_mode": {
    "name": "ipython",
    "version": 3
   },
   "file_extension": ".py",
   "mimetype": "text/x-python",
   "name": "python",
   "nbconvert_exporter": "python",
   "pygments_lexer": "ipython3",
   "version": "3.12.2"
  }
 },
 "nbformat": 4,
 "nbformat_minor": 5
}
